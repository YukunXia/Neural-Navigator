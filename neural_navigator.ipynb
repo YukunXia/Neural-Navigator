{
 "cells": [
  {
   "cell_type": "markdown",
   "metadata": {},
   "source": [
    "# Environment setting"
   ]
  },
  {
   "cell_type": "code",
   "execution_count": 1,
   "metadata": {
    "ExecuteTime": {
     "end_time": "2019-05-15T05:44:06.169235Z",
     "start_time": "2019-05-15T05:44:03.906997Z"
    }
   },
   "outputs": [],
   "source": [
    "import numpy as np\n",
    "from scipy import spatial\n",
    "import matplotlib\n",
    "import matplotlib.animation as animation\n",
    "import time\n",
    "from tqdm.auto import tqdm\n",
    "import torch\n",
    "import pickle\n",
    "\n",
    "import math\n",
    "from sklearn.model_selection import train_test_split\n",
    "\n",
    "import torch\n",
    "import torch.nn as nn\n",
    "import torch.nn.functional as F\n",
    "import torch.utils.data as Data\n",
    "\n",
    "import matplotlib.pyplot as plt\n",
    "%matplotlib inline"
   ]
  },
  {
   "cell_type": "code",
   "execution_count": 2,
   "metadata": {
    "ExecuteTime": {
     "end_time": "2019-05-15T05:44:06.187811Z",
     "start_time": "2019-05-15T05:44:06.184516Z"
    }
   },
   "outputs": [],
   "source": [
    "plt.style.use(\"seaborn\")"
   ]
  },
  {
   "cell_type": "markdown",
   "metadata": {},
   "source": [
    "# Main set-up"
   ]
  },
  {
   "cell_type": "code",
   "execution_count": 3,
   "metadata": {
    "ExecuteTime": {
     "end_time": "2019-05-15T05:44:06.819674Z",
     "start_time": "2019-05-15T05:44:06.816029Z"
    }
   },
   "outputs": [],
   "source": [
    "space_size = 1\n",
    "starting_point = np.array([0,0])\n",
    "ending_point = np.array([1,1])"
   ]
  },
  {
   "cell_type": "code",
   "execution_count": 4,
   "metadata": {
    "ExecuteTime": {
     "end_time": "2019-05-15T05:44:07.134051Z",
     "start_time": "2019-05-15T05:44:07.130791Z"
    }
   },
   "outputs": [],
   "source": [
    "obstacle_shape = \"circle\"\n",
    "obstacle_size = 0.1 # radius of circle\n",
    "obstacle_number = 5"
   ]
  },
  {
   "cell_type": "code",
   "execution_count": 5,
   "metadata": {
    "ExecuteTime": {
     "end_time": "2019-05-15T05:44:07.422348Z",
     "start_time": "2019-05-15T05:44:07.417558Z"
    }
   },
   "outputs": [],
   "source": [
    "def obstacle_generator(number=obstacle_number,size=obstacle_size, seed=0):\n",
    "    np.random.seed(seed)\n",
    "    center = np.random.rand(number,2)*(1-size*2)+size\n",
    "    return center  "
   ]
  },
  {
   "cell_type": "markdown",
   "metadata": {},
   "source": [
    "# Build simulator"
   ]
  },
  {
   "cell_type": "code",
   "execution_count": 6,
   "metadata": {
    "ExecuteTime": {
     "end_time": "2019-05-15T05:44:08.296073Z",
     "start_time": "2019-05-15T05:44:08.123439Z"
    }
   },
   "outputs": [],
   "source": [
    "class Simulator:\n",
    "    def __init__(self, starting_point, ending_point, center, shape=\"circle\"):\n",
    "        self.starting_point = starting_point  # robot's initial position\n",
    "        self.ending_point = ending_point  # destination\n",
    "        self.center = center  # a list of obstacle centers\n",
    "        # size of obstacle (diameter for circles and side length for squares)\n",
    "        self.obstacle_size = 0.1\n",
    "        self.shape = shape  # shape of obstacles\n",
    "    def collision_detect(self, p_rand2, p_rand1):\n",
    "        '''\n",
    "            AUXILIARY\n",
    "\n",
    "            input: coordinates of the two points (p_rand1 and p_rand2)\n",
    "\n",
    "            function: detect if any point in the line segment between p_rand1 and p_rand2 is\n",
    "            inside any obstacle\n",
    "\n",
    "            output: Bool value. True for at least one collision. False for no collision.\n",
    "        '''\n",
    "        p_rand1 = np.array(p_rand1)  # transform the data type\n",
    "        p_rand2 = np.array(p_rand2)\n",
    "\n",
    "        if self.shape == \"circle\":  # the chosen obstacle shape is circle\n",
    "            for i in self.center:  # iterate through every obstacle\n",
    "                # collision mode 1: check if p_rand1 or p_rand2 is inside any obstacle\n",
    "                if np.linalg.norm(p_rand1-i) <= self.obstacle_size or np.linalg.norm(p_rand2-i)\\\n",
    "                        <= self.obstacle_size:\n",
    "                    return True\n",
    "                # collision mode 2: check other points in line segment\n",
    "                alpha, distance = self.distance_point2points(\n",
    "                    p_rand1, p_rand2, i)\n",
    "                # Obstacle's center is point O. Draw a line of p_rand1 and p_rand2,\n",
    "                # and find a point p_3 in the line, with which line p_3-O ⊥ p_rand1-p_rand2.\n",
    "                # Then, alpha = vector(p_3,p_rand1)/vector(p_rand2,p_rand1),\n",
    "                # and distance = ||p_3-O||.\n",
    "                if alpha > 0 and alpha < 1 and distance < self.obstacle_size:\n",
    "                    # only when alpha ∈ (0,1) and p_3 is inside any obstacle, there's a collision.\n",
    "                    return True\n",
    "            return False  # failed to find a collision\n",
    "        \n",
    "        elif self.shape == \"square\":# the chosen obstacle shape is square\n",
    "            size = self.obstacle_size\n",
    "            for i in self.center:\n",
    "                corner1 = i + np.array([size/2,size/2])\n",
    "                corner2 = i + np.array([-size/2,size/2])\n",
    "                corner3 = i + np.array([-size/2,-size/2])\n",
    "                corner4 = i + np.array([size/2,-size/2])\n",
    "                corner_pair = [(corner1,corner2),(corner2,corner3),(corner3,corner4),(corner4,corner1)]\n",
    "                corners = [corner1,corner2,corner3,corner4,corner1] # clockwise\n",
    "                for (c1,c2) in corner_pair:\n",
    "                    if self.cross_or_not(p_rand1,p_rand2,c1,c2):\n",
    "                        return True\n",
    "                if self.inside_polygon_or_not(p_rand1,corners) or \\\n",
    "                   self.inside_polygon_or_not(p_rand2,corners):\n",
    "                    return True\n",
    "            return False\n",
    "\n",
    "    def end_or_not(self, point):\n",
    "        '''\n",
    "            AUXILIARY\n",
    "\n",
    "            input: a point\n",
    "\n",
    "            function: judge if this point can be regarded as a destination.\n",
    "\n",
    "            output: Bool value. True for yes, and False for no.\n",
    "        '''\n",
    "        if np.linalg.norm(point-self.ending_point) < self.step_size and \\\n",
    "                self.collision_detect(self.ending_point, point) == False\\\n",
    "                and self.angle_too_large(point, self.ending_point) == False:\n",
    "            # Three conditions should be satisfies in the meantime:\n",
    "            # Condition 1: close enough to ending point\n",
    "            # Condition 2: no obstacle between current point and destination\n",
    "            # Condition 3: the action from current point to destination satisfies the velocity\n",
    "            # angle constraint. eg (-60,+60)\n",
    "            return True\n",
    "        else:\n",
    "            return False\n",
    "\n",
    "    def inside_region(self, p_new):\n",
    "        '''\n",
    "            AUXILIARY\n",
    "\n",
    "            input: a point\n",
    "\n",
    "            function: judge if this point is inside our environment or not.\n",
    "                      Here, our environment is a square region, from (0,0) to (1,1)\n",
    "\n",
    "            output: Bool value. True for yes, and False for no.\n",
    "        '''\n",
    "        return p_new[0] >= 0 and p_new[0] <= 1 and p_new[1] >= 0 and p_new[1] <= 1\n",
    "\n",
    "    def distance_point2points(self, p1, p2, p3):\n",
    "        '''\n",
    "            AUXILIARY\n",
    "\n",
    "            input: three points. p1 and p2 are points in RRT, p3 is the center of an obstacle.\n",
    "\n",
    "            function: calculate the distance from p3 to line p1-p2, also see if the closest point\n",
    "                      (p4) in line p1-p2 to p3 is inside line segment p1-p2 or not.\n",
    "\n",
    "            output: the position of p4 and the distance between p3 and p4\n",
    "        '''\n",
    "        alpha = np.dot((p3-p1), (p2-p1))/(np.linalg.norm(p2-p1)**2)\n",
    "        distance = np.linalg.norm(np.cross(p2-p1, p1-p3))/(np.linalg.norm(p2-p1)**2)\n",
    "        return alpha, distance\n",
    "    \n",
    "    def to_categorical(self, y):\n",
    "        '''\n",
    "            AUXILIARY\n",
    "            \n",
    "            input: an angle in radian system\n",
    "            \n",
    "            output: transform the continuous values of angle into discretized classes.\n",
    "        '''\n",
    "        if (y <= np.pi/3 and y > np.pi*5/18):\n",
    "            yy = int(0)\n",
    "        elif (y <= np.pi*5/18 and y > np.pi/6):\n",
    "            yy = int(1)\n",
    "        elif (y <= np.pi/6 and y > np.pi/18):\n",
    "            yy = int(2)\n",
    "        elif (y <= np.pi/18 and y > -np.pi/18):\n",
    "            yy = int(3)\n",
    "        elif (y <= -np.pi/18 and y > -np.pi/6):\n",
    "            yy = int(4)\n",
    "        elif (y <= -np.pi/6 and y > -np.pi*5/18):\n",
    "            yy = int(5)\n",
    "        elif (y <= -np.pi*5/18):\n",
    "            yy = int(6)\n",
    "        else:\n",
    "            print(\"out of range!\")\n",
    "        return yy\n",
    "    \n",
    "    def observe_148(self, point, face_direction,j):  # for neural network input\n",
    "        observation_camera = self.observe_with_camera(point, face_direction)\n",
    "        observation_lidar = self.observe_with_lidar(point, face_direction)\n",
    "        observation_gps = self.observe_with_gps(point, face_direction)\n",
    "        input1 = np.hstack(\n",
    "            (observation_camera, observation_lidar,observation_gps)).reshape([-1, 3, 72])\n",
    "        input2 = (face_direction).reshape([-1, 2])\n",
    "        return input1, input2\n",
    "    \n",
    "    def observe_with_camera(self, p1, face_direction=np.array([1, 0]), num=72):\n",
    "        '''\n",
    "            AUXILIARY\n",
    "            \n",
    "            input: a point p1, the current heading direction, and the number of sensor data \n",
    "                   after scanning 360°\n",
    "                   \n",
    "            function: use a camera to scan 360°\n",
    "            \n",
    "            output: a np array of camera data, shape=(1,num). 1 for obstacle, and 0 for wall.\n",
    "        '''\n",
    "        obstacle_size = self.obstacle_size\n",
    "        observation = np.zeros(num)\n",
    "        # 72*5 = 360\n",
    "        if self.shape == \"circle\":\n",
    "            for i, angle in enumerate(np.linspace(0, 2*np.pi, num+1)[:-1]):\n",
    "                p2 = p1 + np.array([np.cos(angle)*face_direction[0]-np.sin(angle)*face_direction[1],\n",
    "                                    np.sin(angle)*face_direction[0]+np.cos(angle)*face_direction[1]])\n",
    "                for p3 in self.center:\n",
    "                    alpha, distance = self.distance_point2points(p1, p2, p3)\n",
    "                    if distance < obstacle_size and alpha > 0:\n",
    "                        observation[i] = 1\n",
    "                        break\n",
    "        elif self.shape == \"square\":\n",
    "            size = self.obstacle_size\n",
    "            for i, angle in enumerate(np.linspace(0, 2*np.pi, num+1)[:-1]):\n",
    "                p2 = p1 + np.array([np.cos(angle)*face_direction[0]-np.sin(angle)*face_direction[1],\n",
    "                                    np.sin(angle)*face_direction[0]+np.cos(angle)*face_direction[1]])\n",
    "                for c in self.center:\n",
    "                    corner1 = c + np.array([size/2,size/2])\n",
    "                    corner2 = c + np.array([-size/2,size/2])\n",
    "                    corner3 = c + np.array([-size/2,-size/2])\n",
    "                    corner4 = c + np.array([size/2,-size/2])\n",
    "                    corner_pair = [(corner1,corner2),(corner2,corner3),(corner3,corner4),(corner4,corner1)]\n",
    "                    for (c1,c2) in corner_pair:\n",
    "                        if self.cross_or_not(p1,p2,c1,c2,mode=\"camera\"):\n",
    "                            observation[i] = 1\n",
    "                            break\n",
    "        return observation  # a list of 0 or 1, 1 for occupied, 0 for boundary\n",
    "\n",
    "    def observe_with_gps(self, p1, face_direction=np.array([1, 0]), num=72):\n",
    "        '''\n",
    "            AUXILIARY\n",
    "            \n",
    "            input: a point p1, the current heading direction, and the number of sensor data \n",
    "                   after scanning 360°\n",
    "                   \n",
    "            function: use a gps to scan 360°\n",
    "            \n",
    "            output: a np array of gps data, shape=(1,num). value is the distance from current point\n",
    "                    to starting point and ending point\n",
    "        '''\n",
    "        observation = np.zeros(num)\n",
    "        critical_size = 0.1\n",
    "        for i, angle in enumerate(np.linspace(0, 2*np.pi, num+1)[:-1]):\n",
    "            p2 = p1 + np.array([np.cos(angle)*face_direction[0]-np.sin(angle)*face_direction[1],\n",
    "                                np.sin(angle)*face_direction[0]+np.cos(angle)*face_direction[1]])\n",
    "            p3 = self.starting_point\n",
    "            alpha, distance = self.distance_point2points(p1, p2, p3)\n",
    "            if distance < critical_size and alpha > 0:\n",
    "                observation[i] = np.linalg.norm(p1-self.starting_point)\n",
    "                continue\n",
    "            p4 = self.ending_point\n",
    "            alpha, distance = self.distance_point2points(p1, p2, p4)\n",
    "            if distance < critical_size and alpha > 0:\n",
    "                observation[i] = -np.linalg.norm(p1-self.ending_point)\n",
    "        return observation\n",
    "\n",
    "    def observe_with_lidar(self, p1, face_direction=np.array([1, 0]), num=72, plot=False):\n",
    "        '''\n",
    "            AUXILIARY\n",
    "            \n",
    "            input: a point p1, the current heading direction, the number of sensor data \n",
    "                   after scanning 360°, and a Bool value for visualization option.\n",
    "                   \n",
    "            function: use a lidar to scan 360°\n",
    "            \n",
    "            output: a np array of lidar data, shape=(1,num). value is the distance from current point\n",
    "                    to the the closest object in each laser scanning direction.\n",
    "        '''\n",
    "        obstacle_size = self.obstacle_size\n",
    "        observation = np.zeros(num)\n",
    "        # split the directions into 4 regions, because there're 4 corners in environment\n",
    "        angle_critical = []\n",
    "\n",
    "        # first step, calculate the four critical angles related to 4 courers\n",
    "        if (p1 != np.array([1, 1])).any():\n",
    "            angle_critical.append(\n",
    "                np.arccos((1-p1[0])/np.linalg.norm(np.array([1, 1])-p1)))\n",
    "        else:\n",
    "            angle_critical.append(1*np.pi/4)\n",
    "        if (p1 != np.array([0, 1])).any():\n",
    "            angle_critical.append(\n",
    "                np.arccos((-p1[0])/np.linalg.norm(np.array([0, 1])-p1)))\n",
    "        else:\n",
    "            angle_critical.append(3*np.pi/4)\n",
    "        if (p1 != np.array([0, 0])).any():\n",
    "            angle_critical.append(\n",
    "                np.pi+np.arccos((p1[0])/np.linalg.norm(np.array([0, 0])-p1)))\n",
    "        else:\n",
    "            angle_critical.append(5*np.pi/4)\n",
    "        if (p1 != np.array([1, 0])).any():\n",
    "            angle_critical.append(\n",
    "                np.pi*2-np.arccos((1-p1[0])/np.linalg.norm(np.array([1, 0])-p1)))\n",
    "        else:\n",
    "            angle_critical.append(7*np.pi/4)                   \n",
    "                    \n",
    "        if self.shape == \"circle\":\n",
    "            # second step, initialize the observation with the wall (max distance values)\n",
    "            for i, angle in enumerate(np.linspace(0, 2*np.pi, num+1)[:-1]):\n",
    "                angle = self.angle_combination(angle, face_direction)\n",
    "                e_angle = np.array([np.cos(angle), np.sin(angle)])\n",
    "                if angle >= angle_critical[0] and angle < angle_critical[1]:\n",
    "                    observation[i] = (1-p1[1])/np.sin(angle)\n",
    "                elif angle >= angle_critical[1] and angle < angle_critical[2]:\n",
    "                    observation[i] = -p1[0]/np.cos(angle)\n",
    "                elif angle >= angle_critical[2] and angle < angle_critical[3]:\n",
    "                    observation[i] = -p1[1]/np.sin(angle)\n",
    "                else:\n",
    "                    observation[i] = (1-p1[0])/np.cos(angle)\n",
    "                p2 = p1 + e_angle\n",
    "                # third step, any obstacle exists in the direction, update the value of observation\n",
    "                # with the smallest distance from current point to the objects in that direction.\n",
    "                for p3 in self.center:\n",
    "                    alpha, distance = self.distance_point2points(p1, p2, p3)\n",
    "                    if alpha > 0 and distance < obstacle_size:\n",
    "                        p4 = p1 + e_angle*alpha\n",
    "                        distance_34 = np.linalg.norm(p4-p3)\n",
    "                        distance_45 = np.sqrt(obstacle_size**2 - distance_34**2)\n",
    "                        p5 = p4 - distance_45*e_angle\n",
    "                        observation[i] = min(np.linalg.norm(p5-p1), observation[i])\n",
    "        elif self.shape == \"square\":\n",
    "            size = self.obstacle_size\n",
    "            for i, angle in enumerate(np.linspace(0, 2*np.pi, num+1)[:-1]):\n",
    "                angle = self.angle_combination(angle, face_direction)\n",
    "                e_angle = np.array([np.cos(angle), np.sin(angle)])\n",
    "                if angle >= angle_critical[0] and angle < angle_critical[1]:\n",
    "                    observation[i] = (1-p1[1])/np.sin(angle)\n",
    "                elif angle >= angle_critical[1] and angle < angle_critical[2]:\n",
    "                    observation[i] = -p1[0]/np.cos(angle)\n",
    "                elif angle >= angle_critical[2] and angle < angle_critical[3]:\n",
    "                    observation[i] = -p1[1]/np.sin(angle)\n",
    "                else:\n",
    "                    observation[i] = (1-p1[0])/np.cos(angle)\n",
    "                p2 = p1 + e_angle\n",
    "                for c in self.center:\n",
    "                    corner1 = c + np.array([size/2,size/2])\n",
    "                    corner2 = c + np.array([-size/2,size/2])\n",
    "                    corner3 = c + np.array([-size/2,-size/2])\n",
    "                    corner4 = c + np.array([size/2,-size/2])\n",
    "                    corner_pair = [(corner1,corner2),(corner2,corner3),(corner3,corner4),(corner4,corner1)]\n",
    "                    for (c1,c2) in corner_pair:\n",
    "                        distance,flag = self.cross_or_not(p1,p2,c1,c2,mode=\"lidar\")\n",
    "                        if flag == True:\n",
    "                            observation[i] = min(distance,observation[i])\n",
    "        if plot == True:\n",
    "            self.plot_lidar(p1, num, observation, face_direction)\n",
    "        return observation\n",
    "\n",
    "    def plot_lidar(self, p1, num, observation, face_direction,ax=None):\n",
    "        '''\n",
    "            AUXILIARY\n",
    "            \n",
    "            input: a point p1, the current heading direction, the number of sensor data \n",
    "                   after scanning 360°.\n",
    "                   \n",
    "            function: visualize the observation data from the lidar\n",
    "            \n",
    "            output: no output.\n",
    "        '''\n",
    "        if ax == None:\n",
    "            fig, ax = plt.subplots(figsize=(6, 6))\n",
    "            plt.xlim(-0.1, 1.1)\n",
    "            plt.ylim(-0.1, 1.1)\n",
    "            plt.scatter(self.starting_point[0], self.starting_point[1], c=\"r\")\n",
    "            plt.scatter(self.ending_point[0], self.ending_point[1], c=\"b\")\n",
    "            if self.shape == \"circle\":\n",
    "                for i in self.center:\n",
    "                    # obstacle_size=0.1 by default\n",
    "                    ax.add_artist(plt.Circle((i[0], i[1]), self.obstacle_size, color=\"g\"))\n",
    "            elif self.shape == \"square\":\n",
    "                size = self.obstacle_size\n",
    "                for i in self.center:\n",
    "                    ax.add_artist(matplotlib.patches.Rectangle(i-np.array([size/2,size/2]),size,size, color='g'))\n",
    "            plt.scatter(p1[0], p1[1], s=15, c=\"k\", zorder=10)\n",
    "            for i, angle in enumerate(np.linspace(0, 2*np.pi, num+1)[:-1]):\n",
    "                if observation[i] != 0:\n",
    "                    e_angle = np.array([np.cos(angle)*face_direction[0]-np.sin(angle)*face_direction[1],\n",
    "                                        np.sin(angle)*face_direction[0]+np.cos(angle)*face_direction[1]])\n",
    "                    p2 = p1 + e_angle*observation[i]\n",
    "                    plt.scatter(p2[0], p2[1], s=15, c=\"k\", zorder=10)\n",
    "                    plt.plot([p1[0], p2[0]], [p1[1], p2[1]], c=\"m\", linewidth=1)\n",
    "            plt.show()\n",
    "        else:\n",
    "            ax.set_xlim(-0.1, 1.1)\n",
    "            ax.set_ylim(-0.1, 1.1)\n",
    "            ax.scatter(self.starting_point[0], self.starting_point[1], c=\"r\")\n",
    "            ax.scatter(self.ending_point[0], self.ending_point[1], c=\"b\")\n",
    "            if self.shape == \"circle\":\n",
    "                for i in self.center:\n",
    "                    # obstacle_size=0.1 by default\n",
    "                    ax.add_artist(plt.Circle((i[0], i[1]), self.obstacle_size, color=\"g\"))\n",
    "            elif self.shape == \"square\":\n",
    "                size = self.obstacle_size\n",
    "                for i in self.center:\n",
    "                    ax.add_artist(matplotlib.patches.Rectangle(i-np.array([size/2,size/2]),size,size, color='g'))\n",
    "            ax.scatter(p1[0], p1[1], s=15, c=\"k\", zorder=10)\n",
    "            for i, angle in enumerate(np.linspace(0, 2*np.pi, num+1)[:-1]):\n",
    "                if observation[i] != 0:\n",
    "                    e_angle = np.array([np.cos(angle)*face_direction[0]-np.sin(angle)*face_direction[1],\n",
    "                                        np.sin(angle)*face_direction[0]+np.cos(angle)*face_direction[1]])\n",
    "                    p2 = p1 + e_angle*observation[i]\n",
    "                    ax.scatter(p2[0], p2[1], s=15, c=\"k\", zorder=10)\n",
    "                    ax.plot([p1[0], p2[0]], [p1[1], p2[1]], c=\"m\", linewidth=1)\n",
    "\n",
    "    def angle_combination(self, angle, face_direction):\n",
    "        '''\n",
    "            AUXILIARY\n",
    "            \n",
    "            input: an angle, and the current heading direction\n",
    "                   \n",
    "            function: combine the angle with an radian value and the direction vector, and\n",
    "                      transform the coordinate of the angle from Euler to Lagrange\n",
    "            \n",
    "            output: the angle value in Lagrange coordinate\n",
    "        '''\n",
    "        new_cos = np.cos(angle) * \\\n",
    "            face_direction[0]-np.sin(angle)*face_direction[1]\n",
    "        new_sin = np.sin(angle) * \\\n",
    "            face_direction[0]+np.cos(angle)*face_direction[1]\n",
    "        new_arccos = np.arccos(new_cos)\n",
    "        new_arcsin = np.arcsin(new_sin)\n",
    "        potential_angle_from_cos = set(\n",
    "            {(new_arccos).round(decimals=4), (2*np.pi-new_arccos).round(decimals=4)})\n",
    "        potential_angle_from_sin = set({(new_arcsin).round(\n",
    "            decimals=4), (np.pi-new_arcsin).round(decimals=4), (2*np.pi+new_arcsin).round(decimals=4)})\n",
    "        potential_angle = [i for i in potential_angle_from_cos if i in potential_angle_from_sin\n",
    "                           and i >= 0 and i < 6.2832]\n",
    "        if 6.2831 in potential_angle:\n",
    "            return float(0)\n",
    "        elif len(potential_angle) != 1: # print error message\n",
    "            print(\"error angle\")\n",
    "            print(\"angle = \", angle*360/(2*np.pi),\n",
    "                  \", face_direction = \", face_direction)\n",
    "            print(\"new_cos = \", new_cos)\n",
    "            print(\"new_sin = \", new_sin)\n",
    "            print(\"potential_angle_from_cos = \", potential_angle_from_cos)\n",
    "            print(\"potential_angle_from_sin = \", potential_angle_from_sin)\n",
    "        else:\n",
    "            return potential_angle[0]\n",
    "        \n",
    "    def cross_or_not(self,p1,p2,c1,c2,mode=\"none\"):\n",
    "        '''\n",
    "            AUXILIARY\n",
    "            \n",
    "            input: two points and two corners, and a mode\n",
    "            \n",
    "            function: a versatile function used in 4 modes, \n",
    "                      helping detect collision and calculate sensor data\n",
    "                      \n",
    "            output: In mode \"none\", return a Bool value. True for existing collision, False for no collision\n",
    "                    In mode \"camera\", return a Bool value. True for existing crossing between scanning line and obstacle, False for no crossing\n",
    "                    In mode \"lidar\", return a float or int variable and a Bool value. \n",
    "                        The float variable is the distance between the current point and the crossing point.\n",
    "                        The Bool value is True when existing crossing between scanning line and obstacle, otherwise is False.\n",
    "        '''\n",
    "        p12 = p2 - p1\n",
    "        c12 = c2 - c1\n",
    "        left_matrix = np.array([[p12[0],-c12[0]],[p12[1],-c12[1]]])\n",
    "        if np.linalg.det(left_matrix) != 0:\n",
    "            right_vector = np.array([c1[0]-p1[0],c1[1]-p1[1]])\n",
    "            alpha_beta = np.linalg.solve(left_matrix,right_vector)\n",
    "            if mode == \"none\":\n",
    "                return (alpha_beta[0]>=0 and alpha_beta[0]<=1 and alpha_beta[1]>=0\\\n",
    "                        and alpha_beta[1]<=1)\n",
    "            elif mode == \"camera\":\n",
    "                return (alpha_beta[0]>=0 and alpha_beta[1]>=0 and alpha_beta[1]<=1)\n",
    "            elif mode == \"lidar\":\n",
    "                flag = (alpha_beta[0]>=0 and alpha_beta[1]>=0 and alpha_beta[1]<=1)\n",
    "                return alpha_beta[0],flag\n",
    "        else:\n",
    "            if mode == \"lidar\":\n",
    "                return 1000,False#1000 is a random large number\n",
    "            \n",
    "    def inside_polygon_or_not(self,p,corners):\n",
    "        '''\n",
    "            AUXILIARY\n",
    "            \n",
    "            input: a point and a list of corners, that describes the polygon\n",
    "            \n",
    "            function: determin whether a point is inside the polygon or not\n",
    "            \n",
    "            output: a Bool Value. True for being inside, and False for being outside\n",
    "        '''\n",
    "        for i in range(len(corners)-1):\n",
    "            p_c1 = corners[i] - p\n",
    "            p_c2 = corners[i+1] - p\n",
    "            if np.cross(p_c1,p_c2) < 0:\n",
    "                return False\n",
    "        return True"
   ]
  },
  {
   "cell_type": "markdown",
   "metadata": {},
   "source": [
    "\n",
    "# Build RRT"
   ]
  },
  {
   "cell_type": "code",
   "execution_count": 7,
   "metadata": {
    "ExecuteTime": {
     "end_time": "2019-05-15T05:44:08.977160Z",
     "start_time": "2019-05-15T05:44:08.971226Z"
    }
   },
   "outputs": [],
   "source": [
    "# center = obstacle_generator(number=10,seed=17) # seed=int(time.time())-1\n",
    "center = obstacle_generator(number=int(np.random.randint(6)+5),seed=17)"
   ]
  },
  {
   "cell_type": "code",
   "execution_count": 8,
   "metadata": {
    "ExecuteTime": {
     "end_time": "2019-05-15T05:44:09.664674Z",
     "start_time": "2019-05-15T05:44:09.603273Z"
    }
   },
   "outputs": [],
   "source": [
    "class RRT(Simulator):\n",
    "    def __init__(self, starting_point, ending_point, step_size, center=center,\n",
    "                 velocity_constraint=False, shape=\"circle\"):\n",
    "\n",
    "        self.starting_point = starting_point  # robot's initial position\n",
    "        self.ending_point = ending_point  # destination\n",
    "        self.step_size = step_size  # size of each moving step\n",
    "        self.tree = {}  # Rapid-exploring Random Tree, a map from a point to its next point\n",
    "        self.p_archive = [starting_point]  # the list of all searched points\n",
    "        self.flag = False  # successful or not\n",
    "        self.velocity_constraint = velocity_constraint\n",
    "        # True for angle shifting ranging from -60° to +60°; False for -180° to 180°\n",
    "        self.center = center  # a list of obstacle centers\n",
    "        # size of obstacle (diameter for circles and side length for squares)\n",
    "        self.obstacle_size = 0.1\n",
    "        self.shape = shape  # shape of obstacles\n",
    "        \n",
    "    def planning(self, max_searching_iteration, all_point=True, plot_path=False, center=center):\n",
    "        '''\n",
    "            CORE\n",
    "\n",
    "            input: an int value of max_searching_iteration, two Bool values for mode choices, and\n",
    "                   a list of obstacle centers\n",
    "\n",
    "            function: run RRT, renew self.tree and record every searched points in self.p_archive\n",
    "\n",
    "            return: a Bool value. True for success, False for failure.\n",
    "                    a list of points (self.p_archive) or the whole tree (self.tree).\n",
    "        '''\n",
    "        i = 0\n",
    "        self.center = center\n",
    "        self.p_archive = [self.starting_point]\n",
    "        while (i < max_searching_iteration):  # main iteration\n",
    "            p_rand = np.random.rand(2)  # a random direction for searching\n",
    "            # build a KD-tree for nearest point searching\n",
    "            kdtree = spatial.KDTree(self.p_archive)\n",
    "            dis, index = kdtree.query(p_rand)\n",
    "            # the nearest point in self.p_archivee\n",
    "            p_nearest = self.p_archive[index]\n",
    "            p_new = p_nearest + self.step_size * \\\n",
    "                (p_rand-p_nearest)/np.linalg.norm(p_rand -\n",
    "                                                  p_nearest)  # a new potential point\n",
    "            if self.collision_detect(p_new, p_nearest) == False \\\n",
    "                    and self.inside_region(p_new) == True and \\\n",
    "                    self.angle_too_large(p_nearest, p_new) == False:\n",
    "                # three conditions that the p_new must satisfy.\n",
    "                self.p_archive += [p_new]  # update p_archive\n",
    "                self.tree[p_new.tobytes()] = p_nearest  # update rrt tree\n",
    "                if self.end_or_not(p_new):  # p_new can be seen as ending_point or not\n",
    "                    self.tree[self.ending_point.tobytes()] = p_new\n",
    "                    self.flag = True\n",
    "                    break  # this four lines of code accelerate algorithm for nearly 2 times!\n",
    "                i += 1\n",
    "        if all_point == True:  # including all searched points\n",
    "            return self.flag, self.p_archive + [self.ending_point]\n",
    "        else:  # including only the points in the optimal path\n",
    "            path = [self.ending_point]\n",
    "            while (path[-1].tobytes() in self.tree):\n",
    "                path.append(self.tree[path[-1].tobytes()])\n",
    "                if (path[-1] == self.starting_point).all():\n",
    "                    break\n",
    "            if plot_path == True:\n",
    "                self.plot_path(path)\n",
    "            return self.flag, path\n",
    "\n",
    "    def angle_too_large(self, p1, p2):\n",
    "        '''\n",
    "            AUXILIARY\n",
    "\n",
    "            input: two points, p1 and p2\n",
    "\n",
    "            function: judge if the movement from p1 to p2 satisfies the velocity constraint or not.\n",
    "\n",
    "            output: Bool value. True for constraint not satisfied (angle too large),\n",
    "                    and False for approving the action.\n",
    "        '''\n",
    "        if self.velocity_constraint == True and (p1 != self.starting_point).all():\n",
    "            p0 = self.tree[p1.tobytes()]  # p0 is the parent point of p1\n",
    "            vector01 = p1-p0\n",
    "            vector02 = p2-p1\n",
    "            cos_theta = np.dot(vector01, vector02) / \\\n",
    "                (np.linalg.norm(vector01)*np.linalg.norm(vector02))\n",
    "            return cos_theta < 0.5  # theta is the angle betwen line p0_p1 and p1_p2\n",
    "            # cos_theta < 0.5 means the velocity constraint is (-60°,+60°)\n",
    "        else:\n",
    "            return False\n",
    "\n",
    "    def plot_path(self, path):\n",
    "        '''\n",
    "            AUXILIARY\n",
    "            \n",
    "            input: a list of points\n",
    "            \n",
    "            function: visualize the path with matplotlib\n",
    "            \n",
    "            output: nothing\n",
    "        '''\n",
    "        fig, ax = plt.subplots(figsize=(6, 6))\n",
    "        plt.xlim(-0.1, 1.1)\n",
    "        plt.ylim(-0.1, 1.1)\n",
    "        plt.scatter(self.starting_point[0], self.starting_point[1], c=\"r\")\n",
    "        plt.scatter(self.ending_point[0], self.ending_point[1], c=\"b\")\n",
    "        if self.shape == \"circle\":\n",
    "            for i in self.center:\n",
    "                # obstacle_size=0.1 by default\n",
    "                ax.add_artist(plt.Circle((i[0], i[1]), 0.1, color=\"g\"))\n",
    "#         elif self.shape == \"square\":\n",
    "\n",
    "        path = np.array(path)\n",
    "        ax.scatter(path[1:-1, 0], path[1:-1, 1], s=3, c=\"k\", zorder=10)\n",
    "        for i in range(path.shape[0]-1):\n",
    "            plt.plot(path[i:i+2, 0], path[i:i+2, 1], c=\"r\")\n",
    "\n",
    "    def output_observation_action(self, data_amount=128, renew_center=False, plot_path=False,\n",
    "                                  observe_from_agent=True):\n",
    "        '''\n",
    "            CORE\n",
    "            \n",
    "            input: the size of data for output, and some setting options\n",
    "            \n",
    "            function: run self.plan, and collect the state and action data of RRT\n",
    "            \n",
    "            output: a list of states and actions\n",
    "        '''\n",
    "        count = 0\n",
    "        observation_batch = []\n",
    "        action_batch = []\n",
    "        while(count < data_amount):  # main iteration\n",
    "            if renew_center == True:\n",
    "                self.center = obstacle_generator(\n",
    "                    number=int(np.random.randint(6)+5), seed=count+int(time.time()))\n",
    "            flag, path = self.planning(\n",
    "                1000, all_point=False, plot_path=plot_path)  # visualization\n",
    "            if flag == False:\n",
    "                continue  # if fail, redo self.plan\n",
    "            # if succeed, record the path\n",
    "            count += len(path)-1\n",
    "            # path is from destination to starting point, so reverse the sequence in the following interation\n",
    "            for j, point in enumerate(path[-1:0:-1]):\n",
    "                destination_direction = (self.ending_point-point)/np.linalg.norm(\n",
    "                    self.ending_point-point)\n",
    "                index = -j-1\n",
    "                # first get the actions (next moving direction: an angle or a discretized class)\n",
    "                point_next = path[index-1]\n",
    "                if j == 0:\n",
    "                    # the last point to the current point\n",
    "                    vector01 = np.array([1, 1])/np.sqrt(2)\n",
    "                else:\n",
    "                    vector01 = point - path[index+1]\n",
    "                    vector01 = vector01/np.linalg.norm(vector01)\n",
    "                vector02 = point_next - point\n",
    "                # the current point to next point\n",
    "                vector02 = vector02/np.linalg.norm(vector02)\n",
    "                # the angle between two vectors\n",
    "                sin_theta = np.cross(vector01, vector02)\n",
    "                # asssume the angle is ∈ (-90°,+90°)\n",
    "                action_batch.append(np.arcsin(sin_theta))\n",
    "\n",
    "                # then get the observations\n",
    "                x_direction = np.array([1, 0])\n",
    "                face_direction = np.array([np.dot(x_direction, vector01),\n",
    "                                           np.cross(x_direction, vector01)])\n",
    "                # observe from agent means the sensor is in Lagrange coordinate\n",
    "                if observe_from_agent == False:\n",
    "                    # camera distinguishes the objects (obstacle or wall) around the robot\n",
    "                    observation_camera = self.observe_with_camera(point)\n",
    "                    # lidar tells the distance from the robot to its surrounding objects\n",
    "                    observation_lidar = self.observe_with_lidar(point)\n",
    "                    # gps shows the relative position of starting point, current point and destination\n",
    "                    observation_gps = self.observe_with_gps(point)\n",
    "                else:  # or in Euler coordinate\n",
    "                    observation_camera = self.observe_with_camera(\n",
    "                        point, face_direction)\n",
    "                    observation_lidar = self.observe_with_lidar(\n",
    "                        point, face_direction)\n",
    "                    observation_gps = self.observe_with_gps(\n",
    "                        point, face_direction)\n",
    "                # stack all observsations\n",
    "                observation_148 = np.hstack((observation_camera, observation_lidar, observation_gps,\n",
    "                                             face_direction))  # 72*3+2 = 218\n",
    "                observation_batch.append(observation_148)\n",
    "            print(count/data_amount)\n",
    "        return np.array(observation_batch[:data_amount]),\\\n",
    "            np.array(action_batch[:data_amount])\n",
    "\n",
    "    def output_observation_action_4RNN(self, round_amount=4, renew_center=False, plot_path=False,\n",
    "                                       observe_from_agent=True):\n",
    "        '''\n",
    "            CORE\n",
    "            \n",
    "            input: rounds of data in need, and some setting options\n",
    "            \n",
    "            function: run self.plan, and collect the sequential state and action data of RRT\n",
    "            \n",
    "            output: a list of rounds with sequential states and actions data, in torch.tensor form\n",
    "        '''\n",
    "        count = 0\n",
    "        epoch = 0\n",
    "        obs_act_round = []\n",
    "        while(epoch < round_amount):\n",
    "            print(epoch/round_amount)\n",
    "            observation_batch = []\n",
    "            action_batch = []\n",
    "            if renew_center == True:\n",
    "                self.center = obstacle_generator(\n",
    "                    number=int(np.random.randint(6)+5), seed=count+int(time.time()))\n",
    "            flag, path = self.planning(\n",
    "                1000, all_point=False, plot_path=plot_path)  # visualization\n",
    "            if flag == False:\n",
    "                continue\n",
    "            epoch += 1\n",
    "            count += len(path)-1\n",
    "            for j, point in enumerate(path[-1:0:-1]):\n",
    "                destination_direction = (self.ending_point-point)/np.linalg.norm(\n",
    "                    self.ending_point-point)\n",
    "                index = -j-1\n",
    "                point_next = path[index-1]\n",
    "                if j == 0:\n",
    "                    vector01 = np.array([1, 1])/np.sqrt(2)\n",
    "                else:\n",
    "                    vector01 = point - path[index+1]\n",
    "                    vector01 = vector01/np.linalg.norm(vector01)\n",
    "                vector02 = point_next - point\n",
    "                vector02 = vector02/np.linalg.norm(vector02)\n",
    "                sin_theta = np.cross(vector01, vector02)\n",
    "                arc_sin_theta = np.arcsin(sin_theta)\n",
    "                action_batch.append(self.to_categorical(arc_sin_theta))\n",
    "\n",
    "                x_direction = np.array([1, 0])\n",
    "                face_direction = np.array([np.dot(x_direction, vector01),\n",
    "                                           np.cross(x_direction, vector01)])\n",
    "                if observe_from_agent == False:\n",
    "                    observation_camera = self.observe_with_camera(point)\n",
    "                    observation_lidar = self.observe_with_lidar(point)\n",
    "                    observation_gps = self.observe_with_gps(point)\n",
    "                else:\n",
    "                    observation_camera = self.observe_with_camera(\n",
    "                        point, face_direction)\n",
    "                    observation_lidar = self.observe_with_lidar(\n",
    "                        point, face_direction)\n",
    "                    observation_gps = self.observe_with_gps(\n",
    "                        point, face_direction)\n",
    "\n",
    "                observation_148 = np.hstack((observation_camera, observation_lidar, observation_gps,\n",
    "                                             face_direction))  # 72*3+2 = 218\n",
    "                observation_batch.append(observation_148)\n",
    "            action_batch = np.vstack([k for k in action_batch])\n",
    "            observation_batch = np.vstack([k for k in observation_batch])\n",
    "            obs_act_round.append(\n",
    "                (torch.tensor(action_batch), torch.tensor(observation_batch)))\n",
    "        return obs_act_round"
   ]
  },
  {
   "cell_type": "markdown",
   "metadata": {},
   "source": [
    "# Illustrate a path generated by the RRT\n"
   ]
  },
  {
   "cell_type": "code",
   "execution_count": 15,
   "metadata": {
    "ExecuteTime": {
     "end_time": "2019-05-15T05:44:33.761361Z",
     "start_time": "2019-05-15T05:44:33.368879Z"
    }
   },
   "outputs": [
    {
     "name": "stdout",
     "output_type": "stream",
     "text": [
      "True\n"
     ]
    },
    {
     "data": {
      "image/png": "[encoded data removed]",
      "text/plain": [
       "<Figure size 432x432 with 1 Axes>"
      ]
     },
     "metadata": {},
     "output_type": "display_data"
    }
   ],
   "source": [
    "fig, ax = plt.subplots(figsize=(6,6))\n",
    "plt.xlim(-0.1,1.1)\n",
    "plt.ylim(-0.1,1.1)\n",
    "plt.scatter(starting_point[0],starting_point[1],c=\"r\")\n",
    "plt.scatter(ending_point[0],ending_point[1],c=\"b\")\n",
    "for i in center:\n",
    "    ax.add_artist(plt.Circle((i[0],i[1]),obstacle_size,color=\"g\"))\n",
    "\n",
    "rrt = RRT(starting_point,ending_point,step_size=0.1,velocity_constraint=True)\n",
    "flag,p_archive = rrt.planning(1000,all_point=False)\n",
    "\n",
    "print(flag)\n",
    "# print(p_archive)\n",
    "p_archive = np.array(p_archive)\n",
    "ax.scatter(p_archive[1:-1,0],p_archive[1:-1,1],s=3,c=\"k\",zorder=10);\n",
    "for i in range(p_archive.shape[0]-1):\n",
    "    plt.plot(p_archive[i:i+2,0],p_archive[i:i+2,1],c=\"r\")\n",
    "    "
   ]
  },
  {
   "cell_type": "markdown",
   "metadata": {},
   "source": [
    "# Collect data of the \"experienced task performer\" from RRT"
   ]
  },
  {
   "cell_type": "markdown",
   "metadata": {},
   "source": [
    "### run this block to save data for the CNN model"
   ]
  },
  {
   "cell_type": "code",
   "execution_count": 12,
   "metadata": {
    "ExecuteTime": {
     "end_time": "2019-05-06T00:47:19.791468Z",
     "start_time": "2019-05-06T00:47:19.788672Z"
    }
   },
   "outputs": [],
   "source": [
    "# observation_batch,action_batch =  rrt.output_observation_action(data_amount=1024*16,renew_center=True)\n",
    "# print(observation_batch,action_batch*180/np.pi)\n",
    "# np.save(\"observation_0411_16_1024_1st\",observation_batch)\n",
    "# np.save(\"action_0411_16_1024_1st\",action_batch)"
   ]
  },
  {
   "cell_type": "markdown",
   "metadata": {},
   "source": [
    "### run this block to save data for the CNN with LSTM model"
   ]
  },
  {
   "cell_type": "code",
   "execution_count": 13,
   "metadata": {
    "ExecuteTime": {
     "end_time": "2019-05-06T00:42:49.158494Z",
     "start_time": "2019-05-06T00:42:49.156134Z"
    }
   },
   "outputs": [],
   "source": [
    "# obs_act_4RNN =  rrt.output_observation_action_4RNN(round_amount=1024,renew_center=True)\n",
    "# with open('act_obs_4RNN', 'wb') as f:\n",
    "#     pickle.dump(obs_act_4RNN, f)"
   ]
  },
  {
   "cell_type": "markdown",
   "metadata": {},
   "source": [
    "# Define and train the CNN model"
   ]
  },
  {
   "cell_type": "code",
   "execution_count": 20,
   "metadata": {
    "ExecuteTime": {
     "end_time": "2019-05-15T05:46:22.735869Z",
     "start_time": "2019-05-15T05:46:22.723420Z"
    }
   },
   "outputs": [],
   "source": [
    "class PlanningNet(nn.Module):\n",
    "    def __init__(self):\n",
    "        super(PlanningNet, self).__init__()\n",
    "        self.conv1 = nn.Sequential(\n",
    "            nn.Conv1d(3,6,5,1,2),\n",
    "            nn.LeakyReLU(0.2),\n",
    "            nn.MaxPool1d(kernel_size=2), \n",
    "        )\n",
    "        self.conv2 = nn.Sequential( \n",
    "            nn.Conv1d(6,12,5,1,2),\n",
    "            nn.LeakyReLU(0.2),\n",
    "            nn.MaxPool1d(2),\n",
    "        )\n",
    "        self.conv3 = nn.Sequential( \n",
    "            nn.Conv1d(12,24,5,1,2),\n",
    "            nn.LeakyReLU(0.2),\n",
    "            nn.MaxPool1d(2),\n",
    "        )\n",
    "        self.linear1 = nn.Linear(9*24,64)\n",
    "        self.linear2 = nn.Linear(64,16)\n",
    "        self.linear3 = nn.Linear(18,7)\n",
    "\n",
    "    def forward(self,input1,input2):\n",
    "        x = input1\n",
    "        x = self.conv1(x)\n",
    "        x = self.conv2(x)\n",
    "        x = self.conv3(x)\n",
    "        x = x.view(x.size(0),-1)\n",
    "        x = F.leaky_relu(self.linear1(x),negative_slope=0.2)\n",
    "        x = F.leaky_relu(self.linear2(x),negative_slope=0.2)\n",
    "        x = torch.cat((x,input2),dim=1)\n",
    "        x = self.linear3(x)\n",
    "        return x\n"
   ]
  },
  {
   "cell_type": "markdown",
   "metadata": {},
   "source": [
    "### Load data"
   ]
  },
  {
   "cell_type": "code",
   "execution_count": 16,
   "metadata": {
    "ExecuteTime": {
     "end_time": "2019-05-15T05:45:26.492136Z",
     "start_time": "2019-05-15T05:45:26.464029Z"
    }
   },
   "outputs": [],
   "source": [
    "# Batch size = 1024, dimension of 1D array = 72\n",
    "obs = np.load('data/observation_0411_16_1024_1st.npy') # shape (1024,148)\n",
    "act = np.load('data/action_0411_16_1024_1st.npy') # shape (1024,)"
   ]
  },
  {
   "cell_type": "markdown",
   "metadata": {},
   "source": [
    "### Split data into training and test data"
   ]
  },
  {
   "cell_type": "code",
   "execution_count": 14,
   "metadata": {
    "ExecuteTime": {
     "end_time": "2019-05-06T00:42:54.792657Z",
     "start_time": "2019-05-06T00:42:54.767605Z"
    }
   },
   "outputs": [],
   "source": [
    "train_obs, test_obs, train_act, test_act = train_test_split(obs, act, test_size=1/4)"
   ]
  },
  {
   "cell_type": "markdown",
   "metadata": {},
   "source": [
    "### One-hot encode for train_act"
   ]
  },
  {
   "cell_type": "code",
   "execution_count": 15,
   "metadata": {
    "ExecuteTime": {
     "end_time": "2019-05-06T00:42:55.682336Z",
     "start_time": "2019-05-06T00:42:55.672518Z"
    }
   },
   "outputs": [],
   "source": [
    "def to_categorical(y):\n",
    "    # returns one-hot encoded variable\n",
    "    if (y<=math.pi/3 and y>math.pi*5/18):\n",
    "        y=int(0)\n",
    "    elif (y<=math.pi*5/18 and y>math.pi/6):\n",
    "        y=int(1)\n",
    "    elif (y<=math.pi/6 and y>math.pi/18):\n",
    "        y=int(2)\n",
    "    elif (y<=math.pi/18 and y>-math.pi/18):\n",
    "        y=int(3)\n",
    "    elif (y<=-math.pi/18 and y>-math.pi/6):\n",
    "        y=int(4)\n",
    "    elif (y<=-math.pi/6 and y>-math.pi*5/18):\n",
    "        y=int(5)\n",
    "    elif (y<=-math.pi*5/18):\n",
    "        y=int(6)\n",
    "    else:\n",
    "        print(\"out of range!\")\n",
    "    return y"
   ]
  },
  {
   "cell_type": "code",
   "execution_count": 16,
   "metadata": {
    "ExecuteTime": {
     "end_time": "2019-05-06T00:42:56.053598Z",
     "start_time": "2019-05-06T00:42:56.009567Z"
    }
   },
   "outputs": [],
   "source": [
    "train_act_ = []\n",
    "for i in range(len(train_act)):\n",
    "    train_act_.append(to_categorical(train_act[i]))\n",
    "train_act = np.array([train_act_]).reshape(-1,)"
   ]
  },
  {
   "cell_type": "code",
   "execution_count": 17,
   "metadata": {
    "ExecuteTime": {
     "end_time": "2019-05-06T00:42:56.374979Z",
     "start_time": "2019-05-06T00:42:56.369970Z"
    }
   },
   "outputs": [
    {
     "data": {
      "text/plain": [
       "(numpy.int64, (12288,))"
      ]
     },
     "execution_count": 17,
     "metadata": {},
     "output_type": "execute_result"
    }
   ],
   "source": [
    "type(train_act[0]),train_act.shape"
   ]
  },
  {
   "cell_type": "code",
   "execution_count": 18,
   "metadata": {
    "ExecuteTime": {
     "end_time": "2019-05-06T00:42:56.739644Z",
     "start_time": "2019-05-06T00:42:56.721290Z"
    }
   },
   "outputs": [],
   "source": [
    "test_act_ = []\n",
    "for i in range(len(test_act)):\n",
    "    test_act_.append(to_categorical(test_act[i]))\n",
    "test_act = np.array([test_act_]).reshape(-1,)"
   ]
  },
  {
   "cell_type": "code",
   "execution_count": 19,
   "metadata": {
    "ExecuteTime": {
     "end_time": "2019-05-06T00:42:57.182730Z",
     "start_time": "2019-05-06T00:42:57.177767Z"
    }
   },
   "outputs": [
    {
     "data": {
      "text/plain": [
       "(numpy.int64, (4096,))"
      ]
     },
     "execution_count": 19,
     "metadata": {},
     "output_type": "execute_result"
    }
   ],
   "source": [
    "type(test_act[0]),test_act.shape"
   ]
  },
  {
   "cell_type": "markdown",
   "metadata": {},
   "source": [
    "### Transform data into tensor set"
   ]
  },
  {
   "cell_type": "code",
   "execution_count": 20,
   "metadata": {
    "ExecuteTime": {
     "end_time": "2019-05-06T00:42:58.188645Z",
     "start_time": "2019-05-06T00:42:58.166111Z"
    }
   },
   "outputs": [],
   "source": [
    "train_obs = torch.Tensor(train_obs)\n",
    "test_obs = torch.Tensor(test_obs)"
   ]
  },
  {
   "cell_type": "code",
   "execution_count": 21,
   "metadata": {
    "ExecuteTime": {
     "end_time": "2019-05-06T00:42:58.505673Z",
     "start_time": "2019-05-06T00:42:58.501531Z"
    }
   },
   "outputs": [],
   "source": [
    "train_act = torch.Tensor(train_act)\n",
    "test_act = torch.Tensor(test_act)"
   ]
  },
  {
   "cell_type": "code",
   "execution_count": 22,
   "metadata": {
    "ExecuteTime": {
     "end_time": "2019-05-06T00:42:58.837257Z",
     "start_time": "2019-05-06T00:42:58.833655Z"
    }
   },
   "outputs": [],
   "source": [
    "train_data = Data.TensorDataset(train_obs,train_act) #(features, targets)\n",
    "test_data = Data.TensorDataset(test_obs,test_act) #(features, targets)"
   ]
  },
  {
   "cell_type": "code",
   "execution_count": 23,
   "metadata": {
    "ExecuteTime": {
     "end_time": "2019-05-06T00:42:59.167779Z",
     "start_time": "2019-05-06T00:42:59.163462Z"
    }
   },
   "outputs": [],
   "source": [
    "train_loader = Data.DataLoader(dataset = train_data, batch_size = 768*16, shuffle = True, num_workers = 4)\n",
    "test_loader = Data.DataLoader(dataset = test_data, batch_size = 256*16, shuffle = True, num_workers = 4)"
   ]
  },
  {
   "cell_type": "markdown",
   "metadata": {},
   "source": [
    "### Compile the model"
   ]
  },
  {
   "cell_type": "code",
   "execution_count": 24,
   "metadata": {
    "ExecuteTime": {
     "end_time": "2019-05-06T00:43:00.048633Z",
     "start_time": "2019-05-06T00:43:00.043239Z"
    }
   },
   "outputs": [],
   "source": [
    "planning_net_CNN = PlanningNet()"
   ]
  },
  {
   "cell_type": "code",
   "execution_count": 25,
   "metadata": {
    "ExecuteTime": {
     "end_time": "2019-05-06T00:43:00.534570Z",
     "start_time": "2019-05-06T00:43:00.530619Z"
    }
   },
   "outputs": [],
   "source": [
    "optimizer_CNN = torch.optim.Adam(planning_net_CNN.parameters(),lr = 1e-3, weight_decay=1e-5)\n",
    "loss_func = nn.CrossEntropyLoss()"
   ]
  },
  {
   "cell_type": "markdown",
   "metadata": {},
   "source": [
    "### Train the model"
   ]
  },
  {
   "cell_type": "code",
   "execution_count": 26,
   "metadata": {
    "ExecuteTime": {
     "end_time": "2019-05-06T00:43:04.181017Z",
     "start_time": "2019-05-06T00:43:04.177630Z"
    }
   },
   "outputs": [],
   "source": [
    "training_loss = []\n",
    "test_loss = []\n",
    "test_accuracy = []\n",
    "test_mse = []"
   ]
  },
  {
   "cell_type": "code",
   "execution_count": 27,
   "metadata": {
    "ExecuteTime": {
     "end_time": "2019-05-06T00:43:05.243492Z",
     "start_time": "2019-05-06T00:43:04.906627Z"
    }
   },
   "outputs": [
    {
     "name": "stdout",
     "output_type": "stream",
     "text": [
      "torch.Size([12288, 218])\n",
      "torch.Size([12288, 3, 72])\n",
      "torch.Size([12288, 2])\n"
     ]
    }
   ],
   "source": [
    "for step,(inputs,label) in enumerate(train_loader):\n",
    "    print(inputs.size())\n",
    "    input1 = np.reshape(inputs[:,:216], [-1,3,72])\n",
    "    input2 = np.reshape(inputs[:,216:], [-1,2])\n",
    "    print(input1.size())\n",
    "    print(input2.size())\n",
    "    break"
   ]
  },
  {
   "cell_type": "code",
   "execution_count": 41,
   "metadata": {
    "ExecuteTime": {
     "end_time": "2019-05-06T00:56:04.009914Z",
     "start_time": "2019-05-06T00:54:20.479561Z"
    },
    "scrolled": true
   },
   "outputs": [
    {
     "data": {
      "application/vnd.jupyter.widget-view+json": {
       "model_id": "04bb2ac1deea4bdcbe90f7305f654bff",
       "version_major": 2,
       "version_minor": 0
      },
      "text/plain": [
       "HBox(children=(IntProgress(value=0), HTML(value='')))"
      ]
     },
     "metadata": {},
     "output_type": "display_data"
    },
    {
     "name": "stderr",
     "output_type": "stream",
     "text": [
      "/Users/ysgc/anaconda3/envs/my35/lib/python3.5/site-packages/ipykernel_launcher.py:9: UserWarning: To copy construct from a tensor, it is recommended to use sourceTensor.clone().detach() or sourceTensor.clone().detach().requires_grad_(True), rather than torch.tensor(sourceTensor).\n",
      "  if __name__ == '__main__':\n"
     ]
    },
    {
     "name": "stdout",
     "output_type": "stream",
     "text": [
      "test loss =  1.3753180503845215\n",
      "test mse =  1.2570115850699228\n",
      "test accuracy =  0.408447265625 \n",
      "\n",
      "\n"
     ]
    },
    {
     "name": "stderr",
     "output_type": "stream",
     "text": [
      "/Users/ysgc/anaconda3/envs/my35/lib/python3.5/site-packages/ipykernel_launcher.py:23: UserWarning: To copy construct from a tensor, it is recommended to use sourceTensor.clone().detach() or sourceTensor.clone().detach().requires_grad_(True), rather than torch.tensor(sourceTensor).\n"
     ]
    },
    {
     "name": "stdout",
     "output_type": "stream",
     "text": [
      "test loss =  1.3731547594070435\n",
      "test mse =  1.239999054939156\n",
      "test accuracy =  0.413818359375 \n",
      "\n",
      "\n",
      "test loss =  1.371267318725586\n",
      "test mse =  1.2442249407261534\n",
      "test accuracy =  0.40966796875 \n",
      "\n",
      "\n",
      "test loss =  1.370137095451355\n",
      "test mse =  1.2473604944541894\n",
      "test accuracy =  0.411865234375 \n",
      "\n",
      "\n",
      "test loss =  1.368739128112793\n",
      "test mse =  1.2440287062101902\n",
      "test accuracy =  0.413330078125 \n",
      "\n",
      "\n",
      "test loss =  1.368499517440796\n",
      "test mse =  1.2622447142887943\n",
      "test accuracy =  0.408447265625 \n",
      "\n",
      "\n",
      "test loss =  1.3660131692886353\n",
      "test mse =  1.2453036778232047\n",
      "test accuracy =  0.406982421875 \n",
      "\n",
      "\n",
      "test loss =  1.3648850917816162\n",
      "test mse =  1.2487298234105726\n",
      "test accuracy =  0.406982421875 \n",
      "\n",
      "\n",
      "test loss =  1.3639768362045288\n",
      "test mse =  1.250292934425769\n",
      "test accuracy =  0.40380859375 \n",
      "\n",
      "\n",
      "test loss =  1.3631807565689087\n",
      "test mse =  1.2575941192411804\n",
      "test accuracy =  0.4072265625 \n",
      "\n",
      "\n",
      "\n"
     ]
    }
   ],
   "source": [
    "for epoch in tqdm(range(100)):\n",
    "    \n",
    "    # training set\n",
    "    planning_net_CNN.train()\n",
    "    for step,(inputs,label) in enumerate(train_loader):\n",
    "        input1 = np.reshape(inputs[:,:216], [-1,3,72])\n",
    "        input2 = np.reshape(inputs[:,216:], [-1,2])\n",
    "        output = planning_net_CNN(input1, input2)\n",
    "        label = torch.tensor(label, dtype=torch.long)\n",
    "        loss = loss_func(output,label)\n",
    "#         print(\"training loss = \",loss.item())\n",
    "        training_loss.append(loss.item())\n",
    "        optimizer_CNN.zero_grad()\n",
    "        loss.backward()\n",
    "        optimizer_CNN.step()\n",
    "        \n",
    "    # test set  \n",
    "    planning_net_CNN.eval()   \n",
    "    for step,(inputs,label) in enumerate(test_loader):\n",
    "        input1 = np.reshape(inputs[:,:216], [-1,3,72])\n",
    "        input2 = np.reshape(inputs[:,216:], [-1,2])\n",
    "        output = planning_net_CNN(input1, input2)\n",
    "        label = torch.tensor(label, dtype=torch.long)\n",
    "        loss = loss_func(output,label)\n",
    "        test_loss.append(loss.item())\n",
    "        \n",
    "        test_output = output\n",
    "        pred_y = torch.max(test_output,1)[1]\n",
    "        pred_y = pred_y.numpy()#.reshape(256,1)\n",
    "        test_y = label.numpy()#.reshape(256,1)\n",
    "        accuracy = float(sum(pred_y == test_y))/float(test_y.size)\n",
    "        mse = np.sqrt(((pred_y-test_y)**2).mean())\n",
    "        test_accuracy.append(accuracy)\n",
    "        test_mse.append(mse)\n",
    "        \n",
    "        if epoch%10 == 0:\n",
    "            print(\"test loss = \",loss.item())\n",
    "            print(\"test mse = \",mse)\n",
    "            print(\"test accuracy = \",accuracy,\"\\n\\n\")"
   ]
  },
  {
   "cell_type": "markdown",
   "metadata": {},
   "source": [
    "### Plot training curves"
   ]
  },
  {
   "cell_type": "code",
   "execution_count": 42,
   "metadata": {
    "ExecuteTime": {
     "end_time": "2019-05-06T00:56:04.429720Z",
     "start_time": "2019-05-06T00:56:04.145361Z"
    }
   },
   "outputs": [
    {
     "data": {
      "text/plain": [
       "(0, 2.5)"
      ]
     },
     "execution_count": 42,
     "metadata": {},
     "output_type": "execute_result"
    },
    {
     "data": {
      "image/png": "[encoded data removed]",
      "text/plain": [
       "<Figure size 576x396 with 1 Axes>"
      ]
     },
     "metadata": {},
     "output_type": "display_data"
    }
   ],
   "source": [
    "plt.plot(training_loss,label=\"training loss\")\n",
    "plt.plot(test_loss,label=\"test loss\")\n",
    "plt.legend(loc='best',fontsize=20)\n",
    "plt.xticks(fontsize=15)\n",
    "plt.yticks(fontsize=15)\n",
    "plt.xlabel(\"epoch\",fontsize=20)\n",
    "plt.ylabel(\"categorical cross entropy loss\",fontsize=20)\n",
    "# plt.xlim(50,60)\n",
    "plt.ylim(0,2.5)\n",
    "# plt.ylim(1.4,1.5)"
   ]
  },
  {
   "cell_type": "code",
   "execution_count": 43,
   "metadata": {
    "ExecuteTime": {
     "end_time": "2019-05-06T00:56:04.802302Z",
     "start_time": "2019-05-06T00:56:04.551805Z"
    }
   },
   "outputs": [
    {
     "data": {
      "text/plain": [
       "(0, 1)"
      ]
     },
     "execution_count": 43,
     "metadata": {},
     "output_type": "execute_result"
    },
    {
     "data": {
      "image/png": "[encoded data removed]",
      "text/plain": [
       "<Figure size 576x396 with 1 Axes>"
      ]
     },
     "metadata": {},
     "output_type": "display_data"
    }
   ],
   "source": [
    "plt.plot(test_accuracy,label=\"test accuracy\")\n",
    "plt.legend(loc='best',fontsize=20)\n",
    "plt.xticks(fontsize=15)\n",
    "plt.yticks(fontsize=15)\n",
    "plt.xlabel(\"epoch\",fontsize=20)\n",
    "plt.ylabel(\"test accuracy\",fontsize=20)\n",
    "plt.ylim(0,1)"
   ]
  },
  {
   "cell_type": "code",
   "execution_count": 44,
   "metadata": {
    "ExecuteTime": {
     "end_time": "2019-05-06T00:56:05.178593Z",
     "start_time": "2019-05-06T00:56:04.915299Z"
    }
   },
   "outputs": [
    {
     "data": {
      "text/plain": [
       "(0, 2.5)"
      ]
     },
     "execution_count": 44,
     "metadata": {},
     "output_type": "execute_result"
    },
    {
     "data": {
      "image/png": "[encoded data removed]",
      "text/plain": [
       "<Figure size 576x396 with 1 Axes>"
      ]
     },
     "metadata": {},
     "output_type": "display_data"
    }
   ],
   "source": [
    "plt.plot(test_mse,label=\"test mse\")\n",
    "plt.legend(loc='best',fontsize=20)\n",
    "plt.xticks(fontsize=15)\n",
    "plt.yticks(fontsize=15)\n",
    "plt.xlabel(\"epoch\",fontsize=20)\n",
    "plt.ylabel(\"test mse\",fontsize=20)\n",
    "plt.ylim(0,2.5)"
   ]
  },
  {
   "cell_type": "markdown",
   "metadata": {},
   "source": [
    "### Save model"
   ]
  },
  {
   "cell_type": "code",
   "execution_count": null,
   "metadata": {},
   "outputs": [],
   "source": [
    "# torch.save(planning_net_CNN,\"/Users/ysgc/python_doc/AM216/Project/planning_net4\")"
   ]
  },
  {
   "cell_type": "markdown",
   "metadata": {},
   "source": [
    "# Define and train the CNN+RNN model"
   ]
  },
  {
   "cell_type": "markdown",
   "metadata": {},
   "source": [
    "### Load data"
   ]
  },
  {
   "cell_type": "code",
   "execution_count": 17,
   "metadata": {
    "ExecuteTime": {
     "end_time": "2019-05-15T05:45:37.128891Z",
     "start_time": "2019-05-15T05:45:36.890106Z"
    }
   },
   "outputs": [],
   "source": [
    "with open('data/act_obs_4RNN', 'rb') as f:\n",
    "    obs_act_4RNN = pickle.load(f)"
   ]
  },
  {
   "cell_type": "markdown",
   "metadata": {},
   "source": [
    "### Split data into training and test data"
   ]
  },
  {
   "cell_type": "code",
   "execution_count": 46,
   "metadata": {
    "ExecuteTime": {
     "end_time": "2019-05-06T00:56:21.785177Z",
     "start_time": "2019-05-06T00:56:21.776316Z"
    }
   },
   "outputs": [],
   "source": [
    "training_index = np.random.choice(a=len(obs_act_4RNN),size=int(len(obs_act_4RNN)*3/4),replace=False)\n",
    "training_set = []\n",
    "test_set = []\n",
    "for i in range(len(obs_act_4RNN)):\n",
    "    if i in training_index:\n",
    "        training_set.append(obs_act_4RNN[i])\n",
    "    else:\n",
    "        test_set.append(obs_act_4RNN[i])"
   ]
  },
  {
   "cell_type": "markdown",
   "metadata": {},
   "source": [
    "### Define the model"
   ]
  },
  {
   "cell_type": "code",
   "execution_count": 19,
   "metadata": {
    "ExecuteTime": {
     "end_time": "2019-05-15T05:46:02.753971Z",
     "start_time": "2019-05-15T05:46:02.740177Z"
    }
   },
   "outputs": [],
   "source": [
    "class PlanningNet_withLSTM(nn.Module):\n",
    "    def __init__(self):\n",
    "        super(PlanningNet_withLSTM, self).__init__()\n",
    "        self.conv1 = nn.Sequential(\n",
    "            nn.Conv1d(3,6,5,1,2),\n",
    "            nn.LeakyReLU(0.2),\n",
    "            nn.MaxPool1d(kernel_size=2), \n",
    "        )\n",
    "        self.conv2 = nn.Sequential( \n",
    "            nn.Conv1d(6,12,5,1,2),\n",
    "            nn.LeakyReLU(0.2),\n",
    "            nn.MaxPool1d(2),\n",
    "        )\n",
    "        self.conv3 = nn.Sequential( \n",
    "            nn.Conv1d(12,24,5,1,2),\n",
    "            nn.LeakyReLU(0.2),\n",
    "            nn.MaxPool1d(2),\n",
    "        )\n",
    "        self.lstm = nn.LSTM( # the raw nn.RNN seems to be more difficult to converge than LSTM\n",
    "            input_size = 9*24,\n",
    "            hidden_size = 64,\n",
    "            num_layers = 1, # could be 2 or 3 or ...\n",
    "            batch_first = True, # \"True\" for (batch_size,time_step,input), \"False\" for other cases\n",
    "        )\n",
    "        self.linear2 = nn.Linear(64,16)\n",
    "        self.linear3 = nn.Linear(18,7)\n",
    "\n",
    "    def forward(self,input1,input2,hidden=None):\n",
    "        x = input1\n",
    "        x = self.conv1(x)\n",
    "        x = self.conv2(x)\n",
    "        x = self.conv3(x)\n",
    "        x = x.view(1,x.size(0),-1)\n",
    "        x,hidden = self.lstm(x,hidden) # do we need to add a activation function here???\n",
    "        x = x.squeeze(0)\n",
    "        x = F.leaky_relu(self.linear2(x),negative_slope=0.2)\n",
    "        x = torch.cat((x,input2),dim=1)\n",
    "        x = self.linear3(x)\n",
    "        return x,hidden"
   ]
  },
  {
   "cell_type": "markdown",
   "metadata": {},
   "source": [
    "### Compile the model"
   ]
  },
  {
   "cell_type": "code",
   "execution_count": 48,
   "metadata": {
    "ExecuteTime": {
     "end_time": "2019-05-06T00:56:38.589404Z",
     "start_time": "2019-05-06T00:56:38.584903Z"
    }
   },
   "outputs": [],
   "source": [
    "planning_net_LSTM = PlanningNet_withLSTM().float()"
   ]
  },
  {
   "cell_type": "code",
   "execution_count": 49,
   "metadata": {
    "ExecuteTime": {
     "end_time": "2019-05-06T00:56:47.559675Z",
     "start_time": "2019-05-06T00:56:47.556541Z"
    }
   },
   "outputs": [],
   "source": [
    "optimizer_LSTM = torch.optim.Adam(planning_net_LSTM.parameters(),lr = 1e-3, weight_decay=1e-5)\n",
    "loss_func = nn.CrossEntropyLoss()"
   ]
  },
  {
   "cell_type": "markdown",
   "metadata": {},
   "source": [
    "### Train the model"
   ]
  },
  {
   "cell_type": "code",
   "execution_count": 50,
   "metadata": {
    "ExecuteTime": {
     "end_time": "2019-05-06T00:56:55.462981Z",
     "start_time": "2019-05-06T00:56:55.459873Z"
    }
   },
   "outputs": [],
   "source": [
    "training_loss = []\n",
    "test_loss = []\n",
    "test_accuracy = []\n",
    "test_mse = []"
   ]
  },
  {
   "cell_type": "code",
   "execution_count": 51,
   "metadata": {
    "ExecuteTime": {
     "end_time": "2019-05-06T00:59:44.959284Z",
     "start_time": "2019-05-06T00:57:03.417502Z"
    }
   },
   "outputs": [
    {
     "data": {
      "application/vnd.jupyter.widget-view+json": {
       "model_id": "84df6271474a4f1c963e645d63d12e32",
       "version_major": 2,
       "version_minor": 0
      },
      "text/plain": [
       "HBox(children=(IntProgress(value=0, max=7), HTML(value='')))"
      ]
     },
     "metadata": {},
     "output_type": "display_data"
    },
    {
     "name": "stdout",
     "output_type": "stream",
     "text": [
      "\n"
     ]
    }
   ],
   "source": [
    "for epoch in tqdm(range(7)):\n",
    "    \n",
    "    # training\n",
    "    planning_net_LSTM.train()\n",
    "    training_loss_ = 0\n",
    "    for (label,inputs) in training_set:\n",
    "        hidden = None\n",
    "        input1 = inputs[:,:216].view([-1,3,72])\n",
    "        input2 = inputs[:,216:].view([-1,2])\n",
    "        max_step = input1.size(0)\n",
    "        outputs = []\n",
    "        loss = 0\n",
    "        for step in range(max_step):\n",
    "            output,hidden = planning_net_LSTM(input1[step].unsqueeze(0).float(), \\\n",
    "                                         input2[step].unsqueeze(0).float(),hidden)\n",
    "            loss += loss_func(output,label[step])\n",
    "        loss = loss/max_step\n",
    "        training_loss_ += loss\n",
    "        optimizer_LSTM.zero_grad()\n",
    "        loss.backward()\n",
    "        optimizer_LSTM.step()\n",
    "    training_loss.append(training_loss_/len(training_set))\n",
    "    \n",
    "    # testing\n",
    "    planning_net_LSTM.eval()\n",
    "    test_loss_ = 0\n",
    "    accuracy_numerator = 0\n",
    "    accuracy_denominator = 0\n",
    "    for (label,inputs) in test_set:\n",
    "        hidden = None\n",
    "        input1 = inputs[:,:216].view([-1,3,72])\n",
    "        input2 = inputs[:,216:].view([-1,2])\n",
    "        max_step = input1.size(0)\n",
    "        outputs = []\n",
    "        loss = 0\n",
    "        for step in range(max_step):\n",
    "            output,hidden = planning_net_LSTM(input1[step].unsqueeze(0).float(), \\\n",
    "                                         input2[step].unsqueeze(0).float(),hidden)\n",
    "            loss += loss_func(output,label[step])\n",
    "            accuracy_denominator += 1\n",
    "            test_y = label[step].numpy()\n",
    "            pred_y = torch.max(output,1)[1].numpy()\n",
    "#             print(\"test_y: \",test_y)\n",
    "#             print(\"pred_y: \",pred_y)\n",
    "            if pred_y == test_y:\n",
    "                accuracy_numerator += 1\n",
    "        loss = loss/max_step\n",
    "        test_loss_ += loss\n",
    "\n",
    "    test_loss.append(test_loss_/len(test_set))\n",
    "    test_accuracy.append(accuracy_numerator/accuracy_denominator)"
   ]
  },
  {
   "cell_type": "markdown",
   "metadata": {},
   "source": [
    "### Plot training curves"
   ]
  },
  {
   "cell_type": "code",
   "execution_count": 52,
   "metadata": {
    "ExecuteTime": {
     "end_time": "2019-05-06T00:59:53.250241Z",
     "start_time": "2019-05-06T00:59:52.985554Z"
    }
   },
   "outputs": [
    {
     "data": {
      "text/plain": [
       "(0, 2.5)"
      ]
     },
     "execution_count": 52,
     "metadata": {},
     "output_type": "execute_result"
    },
    {
     "data": {
      "image/png": "[encoded data removed]",
      "text/plain": [
       "<Figure size 576x396 with 1 Axes>"
      ]
     },
     "metadata": {},
     "output_type": "display_data"
    }
   ],
   "source": [
    "plt.plot(training_loss,label=\"training loss\")\n",
    "plt.plot(test_loss,label=\"test loss\")\n",
    "plt.legend(loc='best',fontsize=20)\n",
    "plt.xticks(fontsize=15)\n",
    "plt.yticks(fontsize=15)\n",
    "plt.xlabel(\"epoch\",fontsize=20)\n",
    "plt.ylabel(\"categorical cross entropy loss\",fontsize=20)\n",
    "# plt.xlim(50,60)\n",
    "plt.ylim(0,2.5)\n",
    "# plt.ylim(1.4,1.5)"
   ]
  },
  {
   "cell_type": "code",
   "execution_count": 53,
   "metadata": {
    "ExecuteTime": {
     "end_time": "2019-05-06T01:00:01.545906Z",
     "start_time": "2019-05-06T01:00:01.316006Z"
    }
   },
   "outputs": [
    {
     "data": {
      "text/plain": [
       "(0, 1)"
      ]
     },
     "execution_count": 53,
     "metadata": {},
     "output_type": "execute_result"
    },
    {
     "data": {
      "image/png": "[encoded data removed]",
      "text/plain": [
       "<Figure size 576x396 with 1 Axes>"
      ]
     },
     "metadata": {},
     "output_type": "display_data"
    }
   ],
   "source": [
    "plt.plot(test_accuracy,label=\"test accuracy\")\n",
    "plt.legend(loc='best',fontsize=20)\n",
    "plt.xticks(fontsize=15)\n",
    "plt.yticks(fontsize=15)\n",
    "plt.xlabel(\"epoch\",fontsize=20)\n",
    "plt.ylabel(\"test accuracy\",fontsize=20)\n",
    "plt.ylim(0,1)"
   ]
  },
  {
   "cell_type": "markdown",
   "metadata": {},
   "source": [
    "# Training results analysis"
   ]
  },
  {
   "cell_type": "markdown",
   "metadata": {},
   "source": [
    "* First, compared the model with LSTM to the model without LSTM, the training is much slower. Roughly on my Macbook, the training time for 1 epoch is 45s vs 1.5s.\n",
    "\n",
    "* Secondly, LSTM costs much less epoches to converge: 3 epoches vs 400 epoches. \n",
    "\n",
    "* Thirdly, the training curves are more smooth in model with LSTM.\n",
    "\n",
    "* Lastly, for both the model (with and without LSTM), the maximum prediction accuracy on test set is about 40%, which isn't a typically good result for a classification problem.\n",
    "\n",
    "---\n",
    "\n",
    "One hypothesis is that here's an one-to-many problem, showed in the following picture. In the right scenario, more than one choices are right answers, but in RRT, each time it can only choose one action.\n",
    "\n",
    "<img src=\"visualization/one-to-many.png\" width=\"400\">\n",
    "\n",
    "To compare the models' real performance, next we're going to change the criterion to *success rate* in a whole new environment. Actually, improving the success rate is the most essential goal for this project."
   ]
  },
  {
   "cell_type": "markdown",
   "metadata": {},
   "source": [
    "# Run neural network navigator in simulator"
   ]
  },
  {
   "cell_type": "markdown",
   "metadata": {},
   "source": [
    "### Load pre-trained model"
   ]
  },
  {
   "cell_type": "code",
   "execution_count": 21,
   "metadata": {
    "ExecuteTime": {
     "end_time": "2019-05-15T05:46:28.860269Z",
     "start_time": "2019-05-15T05:46:28.820475Z"
    }
   },
   "outputs": [],
   "source": [
    "planning_net_CNN = torch.load(\"nn_model/planning_net4\")\n",
    "planning_net_LSTM = torch.load(\"nn_model/planning_net5\")"
   ]
  },
  {
   "cell_type": "code",
   "execution_count": 29,
   "metadata": {
    "ExecuteTime": {
     "end_time": "2019-05-09T01:31:55.539869Z",
     "start_time": "2019-05-09T01:31:55.536142Z"
    }
   },
   "outputs": [],
   "source": [
    "# center = obstacle_generator(number=10,seed=17) # seed=int(time.time())-1\n",
    "center = obstacle_generator(number=int(np.random.randint(5)+5),seed=9102)"
   ]
  },
  {
   "cell_type": "markdown",
   "metadata": {},
   "source": [
    "### Define the neural navigator"
   ]
  },
  {
   "cell_type": "code",
   "execution_count": 16,
   "metadata": {
    "ExecuteTime": {
     "end_time": "2019-05-09T01:25:47.019213Z",
     "start_time": "2019-05-09T01:25:46.964903Z"
    }
   },
   "outputs": [],
   "source": [
    "class NeuralNavigator(Simulator):\n",
    "    def __init__(self,center, neural_network,starting_point=np.array([0, 0]), \n",
    "                 ending_point=np.array([1, 1]),shape=\"circle\",size=0.1):\n",
    "        self.starting_point = starting_point\n",
    "        self.ending_point = ending_point\n",
    "        self.flag = False\n",
    "        self.center = center\n",
    "        self.neural_network = neural_network # import neural network model\n",
    "        self.neural_network.eval() # set neural network to evaluation mode (no gradient calulation)\n",
    "        self.map_from_number_to_angle = {0:np.pi/3, 1:np.pi/4.5, 2:np.pi/9, 3:float(0), \\\n",
    "                                         4:-np.pi/9, 5:-np.pi/4.5, 6:-np.pi/3}# actions from categories to radian values\n",
    "        self.step_size = 0.025\n",
    "        self.obstacle_size = size\n",
    "        self.shape = shape\n",
    "\n",
    "    def military_exercise(self, point=np.array([0.05, 0.05]), face_direction=\n",
    "                          np.array([np.sqrt(2)/2, np.sqrt(2)/2]), plot=\"final\",\n",
    "                          temperature = 0.3,lstm=False):\n",
    "        \"\"\"\n",
    "            TEST\n",
    "            \n",
    "            input: the testing point position, heading direction in np.array[(sine, cosine)] form,\n",
    "                   the option for plotting, the temperature parameter in softmax layer\n",
    "                   \n",
    "            function: test the probability of each action choice given a point and a direction, and \n",
    "                      plot the results\n",
    "                      \n",
    "            output: a numpy array, shape = (1,7), in which the sum of every element = 1\n",
    "        \"\"\"\n",
    "        input1,input2 = self.observe_148(point,face_direction,0)\n",
    "        input1,input2 = torch.Tensor(input1),torch.Tensor(input2)\n",
    "        print(input1.size(),input2.size())\n",
    "        if lstm == False:\n",
    "            output = self.neural_network(input1,input2)\n",
    "        else:\n",
    "            output,hidden = self.neural_network(input1,input2)\n",
    "        if plot == \"final\":\n",
    "            self.observe_with_lidar(point,face_direction,plot=True)\n",
    "        return F.softmax(output/temperature).detach().numpy()\n",
    "\n",
    "    def run_forrest_run(self, plot=True,face_direction=np.array([np.sqrt(2)/2, np.sqrt(2)/2]),\\\n",
    "                        max_step=150, probabilistic=False,step_size=0.05,temperature = 0.3,\\\n",
    "                        animation = False,lstm=False):\n",
    "        \"\"\"\n",
    "            CORE\n",
    "            \n",
    "            input: the options for plotting, the temperature parameter in softmax layer, and other\n",
    "                   settings.\n",
    "                   \n",
    "            function: in each iteration, run neural network to guide each moving step\n",
    "                      \n",
    "            output: a list of points in path, and a Bool value. True for success, and False for failure\n",
    "        \"\"\"\n",
    "        point = self.starting_point\n",
    "        self.p_archive = [point]\n",
    "        self.step_size=step_size\n",
    "        flag = False\n",
    "        if lstm == True:\n",
    "            hidden = None\n",
    "        for count in tqdm(range(max_step)): # main iteration\n",
    "            if self.end_or_not(point) == True: # determine if process ends or not\n",
    "                flag = True\n",
    "                break\n",
    "                \n",
    "            count += 1\n",
    "            input1,input2 = self.observe_148(point,face_direction,count) # get the current observation\n",
    "            input1,input2 = torch.Tensor(input1),torch.Tensor(input2)\n",
    "            if lstm == False: # if the neural network doesn't include lstm\n",
    "                output = self.neural_network(input1,input2)\n",
    "            else: # if neural network includes lstm\n",
    "                output,hidden = self.neural_network(input1.float(),input2.float(),hidden)\n",
    "            output = F.softmax(output/temperature).detach().numpy().reshape(-1,)\n",
    "            if probabilistic == False: # deterministic policy. Next action corresponds to max value of output.\n",
    "                action = self.map_from_number_to_angle[int(np.argmax(output))]\n",
    "            else:# stochastic policy. Next action's probability distribution is the output of a softmax layer.\n",
    "                action = self.map_from_number_to_angle[int(np.random.choice(a=7,size=1,p=output))]\n",
    "            absolute_angle = self.angle_combination(action,face_direction)\n",
    "            face_direction = np.array([np.cos(absolute_angle),np.sin(absolute_angle)])\n",
    "            point_next = point + face_direction*step_size\n",
    "            self.p_archive.append(point_next)\n",
    "            if animation == True: # save an animation for the whole path\n",
    "                self.plot_path(self.p_archive,animation)\n",
    "            if (self.collision_detect(point_next,point) == True or \\\n",
    "                    self.inside_region(point_next) == False):\n",
    "                print(\"fail\") # fail to finish the task\n",
    "                break\n",
    "            else:\n",
    "                point = point_next\n",
    "        if plot == True and animation == False:\n",
    "            self.plot_path(self.p_archive,animation)\n",
    "        return self.p_archive,flag\n",
    "    \n",
    "    def plot_path(self, path,animation):\n",
    "        '''\n",
    "            AUXILIARY\n",
    "            \n",
    "            input: path represented by a list of points, a Bool value for whether making a video or not\n",
    "            \n",
    "            function: visualize the path and environment. output an animation of the whole procedure.\n",
    "            \n",
    "            output: no output\n",
    "        '''\n",
    "        if animation == False:\n",
    "            fig, ax = plt.subplots(figsize=(6, 6))\n",
    "            plt.xlim(-0.1, 1.1)\n",
    "            plt.ylim(-0.1, 1.1)\n",
    "            plt.scatter(self.starting_point[0], self.starting_point[1], c=\"r\")\n",
    "            plt.scatter(self.ending_point[0], self.ending_point[1], c=\"b\")\n",
    "            if self.shape == \"circle\":\n",
    "                size = self.obstacle_size\n",
    "                for i in self.center:\n",
    "                    # obstacle_size=0.1 by default\n",
    "                    ax.add_artist(plt.Circle((i[0], i[1]), self.obstacle_size, color=\"g\"))\n",
    "            elif self.shape == \"square\":\n",
    "                size = self.obstacle_size\n",
    "                for i in self.center:\n",
    "                    ax.add_artist(matplotlib.patches.Rectangle(i-np.array([size/2,size/2]),size,size, color='g'))\n",
    "            path = np.array(path)\n",
    "            ax.scatter(path[1:-1, 0], path[1:-1, 1], s=15, c=\"darkviolet\", zorder=10)\n",
    "            for i in range(path.shape[0]-1):\n",
    "                plt.plot(path[i:i+2, 0], path[i:i+2, 1], c=\"k\")\n",
    "            plt.show()\n",
    "        else:\n",
    "            fig, (ax,ax2) = plt.subplots(figsize=(13, 6),ncols=2,nrows=1)\n",
    "            ax.set_xlim(-0.1, 1.1)\n",
    "            ax.set_ylim(-0.1, 1.1)\n",
    "            ax.scatter(self.starting_point[0], self.starting_point[1], c=\"r\")\n",
    "            ax.scatter(self.ending_point[0], self.ending_point[1], c=\"b\")\n",
    "            if self.shape == \"circle\":\n",
    "                size = self.obstacle_size\n",
    "                for i in self.center:\n",
    "                    # obstacle_size=0.1 by default\n",
    "                    ax.add_artist(plt.Circle((i[0], i[1]), self.obstacle_size, color=\"g\"))\n",
    "            elif self.shape == \"square\":\n",
    "                size = self.obstacle_size\n",
    "                for i in self.center:\n",
    "                    ax.add_artist(matplotlib.patches.Rectangle(i-np.array([size/2,size/2]),size,size, color='g'))\n",
    "            path = np.array(path)\n",
    "            ax.scatter(path[1:-1, 0], path[1:-1, 1], s=15, c=\"darkviolet\", zorder=10)\n",
    "            for i in range(path.shape[0]-1):\n",
    "                ax.plot(path[i:i+2, 0], path[i:i+2, 1], c=\"k\")\n",
    "            self.observe_with_lidar(p1=path[-1],plot=True,ax=ax2)\n",
    "            fig.savefig(\"/Users/ysgc/python_doc/AM216/Project/test_imgs/img\"+\\\n",
    "                            str(len(path)-1).zfill(3)+\".png\")\n",
    "        plt.close(fig)\n",
    "        \n",
    "    def end_or_not(self, point):\n",
    "        '''\n",
    "            AUXILIARY\n",
    "            \n",
    "            input: the current point position\n",
    "            \n",
    "            function: determine if a point can be regarded as destination\n",
    "            \n",
    "            output: a Bool value. True for termination, and False for not ending.\n",
    "        '''\n",
    "        if np.linalg.norm(point-self.ending_point) < 0.05 and \\\n",
    "                self.collision_detect(self.ending_point, point) == False:\n",
    "            return True\n",
    "        else:\n",
    "            return False"
   ]
  },
  {
   "cell_type": "markdown",
   "metadata": {},
   "source": [
    "### define two neural navigators with CNN and LSTM"
   ]
  },
  {
   "cell_type": "code",
   "execution_count": 17,
   "metadata": {
    "ExecuteTime": {
     "end_time": "2019-05-09T01:25:47.944601Z",
     "start_time": "2019-05-09T01:25:47.941501Z"
    }
   },
   "outputs": [],
   "source": [
    "center = obstacle_generator(number=int(np.random.randint(5)+5),seed=1102)"
   ]
  },
  {
   "cell_type": "code",
   "execution_count": 18,
   "metadata": {
    "ExecuteTime": {
     "end_time": "2019-05-09T01:25:48.445641Z",
     "start_time": "2019-05-09T01:25:48.439121Z"
    }
   },
   "outputs": [],
   "source": [
    "neural_navigator_CNN = NeuralNavigator(shape=\"circle\", size=0.1,\n",
    "                                   starting_point=np.array([0, 0]),\n",
    "                                   ending_point=np.array([1,1]),\n",
    "                                   neural_network=planning_net_CNN,\n",
    "                                   center=center)\n",
    "neural_navigator_LSTM = NeuralNavigator(shape=\"circle\", size=0.1,\n",
    "                                   starting_point=np.array([0, 0]),\n",
    "                                   ending_point=np.array([1,1]),\n",
    "                                   neural_network=planning_net_LSTM,\n",
    "                                   center=center)"
   ]
  },
  {
   "cell_type": "markdown",
   "metadata": {},
   "source": [
    "### Demonstrate the performance of neural navigators"
   ]
  },
  {
   "cell_type": "code",
   "execution_count": 19,
   "metadata": {
    "ExecuteTime": {
     "end_time": "2019-05-09T01:25:50.300057Z",
     "start_time": "2019-05-09T01:25:49.661596Z"
    }
   },
   "outputs": [
    {
     "name": "stdout",
     "output_type": "stream",
     "text": [
      "torch.Size([1, 3, 72]) torch.Size([1, 2])\n"
     ]
    },
    {
     "data": {
      "image/png": "[encoded data removed]",
      "text/plain": [
       "<Figure size 432x432 with 1 Axes>"
      ]
     },
     "metadata": {},
     "output_type": "display_data"
    },
    {
     "name": "stdout",
     "output_type": "stream",
     "text": [
      "[[1.26982962e-12 8.48805939e-06 7.37787843e-01 1.44960180e-01\n",
      "  1.17231555e-01 1.19707202e-05 3.74810778e-13]]\n",
      "torch.Size([1, 3, 72]) torch.Size([1, 2])\n",
      "[[1.0161848e-08 5.2915199e-04 5.2756608e-01 4.7165236e-01 2.5223830e-04\n",
      "  5.3162996e-08 4.0502803e-11]]\n"
     ]
    },
    {
     "name": "stderr",
     "output_type": "stream",
     "text": [
      "/Users/ysgc/anaconda3/envs/my35/lib/python3.5/site-packages/ipykernel_launcher.py:39: UserWarning: Implicit dimension choice for softmax has been deprecated. Change the call to include dim=X as an argument.\n"
     ]
    }
   ],
   "source": [
    "face_angle = np.pi/4\n",
    "face_direction = np.array([np.cos(face_angle),np.sin(face_angle)])\n",
    "\n",
    "print(neural_navigator_CNN.military_exercise(point=np.array([0.9,0.6]),\\\n",
    "                                            face_direction=face_direction,\\\n",
    "                                            lstm=False))\n",
    "print(neural_navigator_LSTM.military_exercise(point=np.array([0.9,0.6]),\\\n",
    "                                            face_direction=face_direction,\\\n",
    "                                            plot=None,\n",
    "                                            lstm=True))"
   ]
  },
  {
   "cell_type": "code",
   "execution_count": 20,
   "metadata": {
    "ExecuteTime": {
     "end_time": "2019-05-09T01:25:52.546730Z",
     "start_time": "2019-05-09T01:25:50.318677Z"
    }
   },
   "outputs": [
    {
     "data": {
      "application/vnd.jupyter.widget-view+json": {
       "model_id": "db30c1580f6c41bf972000e3c512770d",
       "version_major": 2,
       "version_minor": 0
      },
      "text/plain": [
       "HBox(children=(IntProgress(value=0, max=150), HTML(value='')))"
      ]
     },
     "metadata": {},
     "output_type": "display_data"
    },
    {
     "name": "stderr",
     "output_type": "stream",
     "text": [
      "/Users/ysgc/anaconda3/envs/my35/lib/python3.5/site-packages/ipykernel_launcher.py:72: UserWarning: Implicit dimension choice for softmax has been deprecated. Change the call to include dim=X as an argument.\n"
     ]
    },
    {
     "name": "stdout",
     "output_type": "stream",
     "text": [
      "\n"
     ]
    },
    {
     "data": {
      "image/png": "[encoded data removed]",
      "text/plain": [
       "<Figure size 432x432 with 1 Axes>"
      ]
     },
     "metadata": {},
     "output_type": "display_data"
    }
   ],
   "source": [
    "path = neural_navigator_CNN.run_forrest_run(probabilistic=True,temperature=0.1,plot=True,lstm=False)"
   ]
  },
  {
   "cell_type": "code",
   "execution_count": 21,
   "metadata": {
    "ExecuteTime": {
     "end_time": "2019-05-09T01:25:55.498149Z",
     "start_time": "2019-05-09T01:25:53.382368Z"
    }
   },
   "outputs": [
    {
     "data": {
      "application/vnd.jupyter.widget-view+json": {
       "model_id": "08c1c5eafc61493e951ee1e8cb62831b",
       "version_major": 2,
       "version_minor": 0
      },
      "text/plain": [
       "HBox(children=(IntProgress(value=0, max=150), HTML(value='')))"
      ]
     },
     "metadata": {},
     "output_type": "display_data"
    },
    {
     "name": "stderr",
     "output_type": "stream",
     "text": [
      "/Users/ysgc/anaconda3/envs/my35/lib/python3.5/site-packages/ipykernel_launcher.py:72: UserWarning: Implicit dimension choice for softmax has been deprecated. Change the call to include dim=X as an argument.\n"
     ]
    },
    {
     "name": "stdout",
     "output_type": "stream",
     "text": [
      "\n"
     ]
    },
    {
     "data": {
      "image/png": "[encoded data removed]",
      "text/plain": [
       "<Figure size 432x432 with 1 Axes>"
      ]
     },
     "metadata": {},
     "output_type": "display_data"
    }
   ],
   "source": [
    "path = neural_navigator_LSTM.run_forrest_run(probabilistic=True,temperature=0.1,plot=True,lstm=True)"
   ]
  },
  {
   "cell_type": "markdown",
   "metadata": {},
   "source": [
    "Here are two videos:"
   ]
  },
  {
   "cell_type": "markdown",
   "metadata": {},
   "source": [
    "<img src=\"visualization/circ_demo.jpeg\" width=\"600\">"
   ]
  },
  {
   "cell_type": "markdown",
   "metadata": {},
   "source": [
    "<img src=\"visualization/sqr_demo.jpeg\" width=\"600\">"
   ]
  },
  {
   "cell_type": "markdown",
   "metadata": {},
   "source": [
    "### Evaluate the performance of neural navigators"
   ]
  },
  {
   "cell_type": "code",
   "execution_count": 22,
   "metadata": {
    "ExecuteTime": {
     "end_time": "2019-05-09T01:26:01.631431Z",
     "start_time": "2019-05-09T01:26:01.616818Z"
    }
   },
   "outputs": [],
   "source": [
    "def evaluate_navigator(obstacle_number=(5,5),obstacle_size=0.1,step_size=0.05,iteration=100,\\\n",
    "                       starting_point=np.array([0.0,0.0]),ending_point=np.array([1.0,1.0]),\\\n",
    "                       probabilistic=True,temperature = 0.3,plot=False,lstm=False):\n",
    "    '''\n",
    "        input: geometry parameters in the simulator, parameters for neural network decision making\n",
    "        \n",
    "        function: evaluate the performance of different neural networks in path planning\n",
    "        \n",
    "        output: success rate (successfully plan a path between starting and ending point)\n",
    "    '''\n",
    "    if lstm == True:\n",
    "        planning_net = planning_net_LSTM\n",
    "    else:\n",
    "        planning_net = planning_net_CNN\n",
    "    \n",
    "    # test performance when obstacles are circle\n",
    "    successful_num_circle = 0\n",
    "    for i in tqdm(range(iteration)):\n",
    "        center = obstacle_generator(number=int(np.random.randint(obstacle_number[0])\\\n",
    "                                              +obstacle_number[1]),seed=i+int(time.time()))\n",
    "        neural_navigator = NeuralNavigator(shape=\"circle\", size=obstacle_size,\n",
    "                                           starting_point=starting_point,\n",
    "                                           neural_network=planning_net,\n",
    "                                           ending_point=ending_point, center=center)\n",
    "        if neural_navigator.run_forrest_run(probabilistic=probabilistic,\\\n",
    "                                            temperature=temperature,plot=plot,\\\n",
    "                                            step_size=step_size,lstm=lstm)[1]:\n",
    "            successful_num_circle += 1\n",
    "    print(successful_num_circle/iteration)\n",
    "    successful_num_square = 0\n",
    "    \n",
    "    # test performance when obstacles are square\n",
    "    for i in tqdm(range(iteration)):\n",
    "        center = obstacle_generator(number=int(np.random.randint(obstacle_number[0])\\\n",
    "                                              +obstacle_number[1]),seed=i+int(time.time()))\n",
    "        neural_navigator = NeuralNavigator(shape=\"square\", size=obstacle_size*1.77,\n",
    "                                           starting_point=starting_point,\n",
    "                                           neural_network=planning_net,\n",
    "                                           ending_point=ending_point, center=center)\n",
    "        if neural_navigator.run_forrest_run(probabilistic=probabilistic,\\\n",
    "                                            temperature=temperature,plot=plot,\\\n",
    "                                            step_size=step_size,lstm=lstm)[1]:\n",
    "            successful_num_square += 1\n",
    "    print(successful_num_square/iteration)\n",
    "    \n",
    "    # output\n",
    "    return (successful_num_circle/iteration),(successful_num_square/iteration)"
   ]
  },
  {
   "cell_type": "code",
   "execution_count": 23,
   "metadata": {
    "ExecuteTime": {
     "end_time": "2019-05-09T01:28:10.508613Z",
     "start_time": "2019-05-09T01:26:11.451936Z"
    },
    "scrolled": true
   },
   "outputs": [
    {
     "data": {
      "application/vnd.jupyter.widget-view+json": {
       "model_id": "7e0de0ab457d4037b460579d9abe3d56",
       "version_major": 2,
       "version_minor": 0
      },
      "text/plain": [
       "HBox(children=(IntProgress(value=0, max=10), HTML(value='')))"
      ]
     },
     "metadata": {},
     "output_type": "display_data"
    },
    {
     "data": {
      "application/vnd.jupyter.widget-view+json": {
       "model_id": "b7aff0c8be78419aa8bd7fa2ead5c78c",
       "version_major": 2,
       "version_minor": 0
      },
      "text/plain": [
       "HBox(children=(IntProgress(value=0, max=150), HTML(value='')))"
      ]
     },
     "metadata": {},
     "output_type": "display_data"
    },
    {
     "name": "stderr",
     "output_type": "stream",
     "text": [
      "/Users/ysgc/anaconda3/envs/my35/lib/python3.5/site-packages/ipykernel_launcher.py:72: UserWarning: Implicit dimension choice for softmax has been deprecated. Change the call to include dim=X as an argument.\n"
     ]
    },
    {
     "data": {
      "application/vnd.jupyter.widget-view+json": {
       "model_id": "f119a4cc6059431190d502ba7efeae60",
       "version_major": 2,
       "version_minor": 0
      },
      "text/plain": [
       "HBox(children=(IntProgress(value=0, max=150), HTML(value='')))"
      ]
     },
     "metadata": {},
     "output_type": "display_data"
    },
    {
     "data": {
      "application/vnd.jupyter.widget-view+json": {
       "model_id": "c463551c29af48569d1f9d9a65bb995a",
       "version_major": 2,
       "version_minor": 0
      },
      "text/plain": [
       "HBox(children=(IntProgress(value=0, max=150), HTML(value='')))"
      ]
     },
     "metadata": {},
     "output_type": "display_data"
    },
    {
     "name": "stdout",
     "output_type": "stream",
     "text": [
      "fail\n"
     ]
    },
    {
     "data": {
      "application/vnd.jupyter.widget-view+json": {
       "model_id": "edcc6d9c8b02428ea764a5259a47c5b7",
       "version_major": 2,
       "version_minor": 0
      },
      "text/plain": [
       "HBox(children=(IntProgress(value=0, max=150), HTML(value='')))"
      ]
     },
     "metadata": {},
     "output_type": "display_data"
    },
    {
     "data": {
      "application/vnd.jupyter.widget-view+json": {
       "model_id": "cfd79358ba50462da2ebe14a9ec02d44",
       "version_major": 2,
       "version_minor": 0
      },
      "text/plain": [
       "HBox(children=(IntProgress(value=0, max=150), HTML(value='')))"
      ]
     },
     "metadata": {},
     "output_type": "display_data"
    },
    {
     "data": {
      "application/vnd.jupyter.widget-view+json": {
       "model_id": "27d53be5796b44219b30b477cafe3b76",
       "version_major": 2,
       "version_minor": 0
      },
      "text/plain": [
       "HBox(children=(IntProgress(value=0, max=150), HTML(value='')))"
      ]
     },
     "metadata": {},
     "output_type": "display_data"
    },
    {
     "data": {
      "application/vnd.jupyter.widget-view+json": {
       "model_id": "716daf4456364d55b5f5d8fd65da618d",
       "version_major": 2,
       "version_minor": 0
      },
      "text/plain": [
       "HBox(children=(IntProgress(value=0, max=150), HTML(value='')))"
      ]
     },
     "metadata": {},
     "output_type": "display_data"
    },
    {
     "data": {
      "application/vnd.jupyter.widget-view+json": {
       "model_id": "10b1643b642b4ed095369ab771a8c2fd",
       "version_major": 2,
       "version_minor": 0
      },
      "text/plain": [
       "HBox(children=(IntProgress(value=0, max=150), HTML(value='')))"
      ]
     },
     "metadata": {},
     "output_type": "display_data"
    },
    {
     "data": {
      "application/vnd.jupyter.widget-view+json": {
       "model_id": "41c83e810f2341c3aece05c3e693c47c",
       "version_major": 2,
       "version_minor": 0
      },
      "text/plain": [
       "HBox(children=(IntProgress(value=0, max=150), HTML(value='')))"
      ]
     },
     "metadata": {},
     "output_type": "display_data"
    },
    {
     "data": {
      "application/vnd.jupyter.widget-view+json": {
       "model_id": "54b7f679e82848a5b9bca5e3d6b55d86",
       "version_major": 2,
       "version_minor": 0
      },
      "text/plain": [
       "HBox(children=(IntProgress(value=0, max=150), HTML(value='')))"
      ]
     },
     "metadata": {},
     "output_type": "display_data"
    },
    {
     "name": "stdout",
     "output_type": "stream",
     "text": [
      "0.9\n"
     ]
    },
    {
     "data": {
      "application/vnd.jupyter.widget-view+json": {
       "model_id": "c2fee5c24898423bac360adab7d0f352",
       "version_major": 2,
       "version_minor": 0
      },
      "text/plain": [
       "HBox(children=(IntProgress(value=0, max=10), HTML(value='')))"
      ]
     },
     "metadata": {},
     "output_type": "display_data"
    },
    {
     "data": {
      "application/vnd.jupyter.widget-view+json": {
       "model_id": "71e14b18e02d44cebc4b88e7448fd00c",
       "version_major": 2,
       "version_minor": 0
      },
      "text/plain": [
       "HBox(children=(IntProgress(value=0, max=150), HTML(value='')))"
      ]
     },
     "metadata": {},
     "output_type": "display_data"
    },
    {
     "data": {
      "application/vnd.jupyter.widget-view+json": {
       "model_id": "1bb6382698dd45c9a9a03e769e877a40",
       "version_major": 2,
       "version_minor": 0
      },
      "text/plain": [
       "HBox(children=(IntProgress(value=0, max=150), HTML(value='')))"
      ]
     },
     "metadata": {},
     "output_type": "display_data"
    },
    {
     "name": "stdout",
     "output_type": "stream",
     "text": [
      "fail\n"
     ]
    },
    {
     "data": {
      "application/vnd.jupyter.widget-view+json": {
       "model_id": "bfce7ee3a0b54f6a8c1364876f15270a",
       "version_major": 2,
       "version_minor": 0
      },
      "text/plain": [
       "HBox(children=(IntProgress(value=0, max=150), HTML(value='')))"
      ]
     },
     "metadata": {},
     "output_type": "display_data"
    },
    {
     "data": {
      "application/vnd.jupyter.widget-view+json": {
       "model_id": "df2cd6a7b7184117b72139a6934f415d",
       "version_major": 2,
       "version_minor": 0
      },
      "text/plain": [
       "HBox(children=(IntProgress(value=0, max=150), HTML(value='')))"
      ]
     },
     "metadata": {},
     "output_type": "display_data"
    },
    {
     "data": {
      "application/vnd.jupyter.widget-view+json": {
       "model_id": "76eaa345cd6c4ab0a0f16a4813bee511",
       "version_major": 2,
       "version_minor": 0
      },
      "text/plain": [
       "HBox(children=(IntProgress(value=0, max=150), HTML(value='')))"
      ]
     },
     "metadata": {},
     "output_type": "display_data"
    },
    {
     "name": "stdout",
     "output_type": "stream",
     "text": [
      "fail\n"
     ]
    },
    {
     "data": {
      "application/vnd.jupyter.widget-view+json": {
       "model_id": "532cb45382bc401d80eededa7c4e2b41",
       "version_major": 2,
       "version_minor": 0
      },
      "text/plain": [
       "HBox(children=(IntProgress(value=0, max=150), HTML(value='')))"
      ]
     },
     "metadata": {},
     "output_type": "display_data"
    },
    {
     "data": {
      "application/vnd.jupyter.widget-view+json": {
       "model_id": "5ea86830c935467ea77580549ba3df34",
       "version_major": 2,
       "version_minor": 0
      },
      "text/plain": [
       "HBox(children=(IntProgress(value=0, max=150), HTML(value='')))"
      ]
     },
     "metadata": {},
     "output_type": "display_data"
    },
    {
     "data": {
      "application/vnd.jupyter.widget-view+json": {
       "model_id": "7cf5b65595684633ae0850d387400c53",
       "version_major": 2,
       "version_minor": 0
      },
      "text/plain": [
       "HBox(children=(IntProgress(value=0, max=150), HTML(value='')))"
      ]
     },
     "metadata": {},
     "output_type": "display_data"
    },
    {
     "name": "stdout",
     "output_type": "stream",
     "text": [
      "fail\n"
     ]
    },
    {
     "data": {
      "application/vnd.jupyter.widget-view+json": {
       "model_id": "310dfd34a5c74bc58968960b376a2fdb",
       "version_major": 2,
       "version_minor": 0
      },
      "text/plain": [
       "HBox(children=(IntProgress(value=0, max=150), HTML(value='')))"
      ]
     },
     "metadata": {},
     "output_type": "display_data"
    },
    {
     "data": {
      "application/vnd.jupyter.widget-view+json": {
       "model_id": "30ac3644349645918f273b333d4879fa",
       "version_major": 2,
       "version_minor": 0
      },
      "text/plain": [
       "HBox(children=(IntProgress(value=0, max=150), HTML(value='')))"
      ]
     },
     "metadata": {},
     "output_type": "display_data"
    },
    {
     "name": "stdout",
     "output_type": "stream",
     "text": [
      "0.7\n"
     ]
    }
   ],
   "source": [
    "success_rate_CNN = evaluate_navigator(iteration=100,step_size=0.025,temperature=0.01,plot=False,lstm=False)"
   ]
  },
  {
   "cell_type": "code",
   "execution_count": 46,
   "metadata": {
    "ExecuteTime": {
     "end_time": "2019-05-05T23:42:39.923417Z",
     "start_time": "2019-05-05T23:40:24.719494Z"
    },
    "scrolled": true
   },
   "outputs": [
    {
     "data": {
      "application/vnd.jupyter.widget-view+json": {
       "model_id": "749c20fc70df4bfbb227f2676afef37a",
       "version_major": 2,
       "version_minor": 0
      },
      "text/plain": [
       "HBox(children=(IntProgress(value=0, max=10), HTML(value='')))"
      ]
     },
     "metadata": {},
     "output_type": "display_data"
    },
    {
     "data": {
      "application/vnd.jupyter.widget-view+json": {
       "model_id": "3193bccd9b74498182ec15cd7a7b48d5",
       "version_major": 2,
       "version_minor": 0
      },
      "text/plain": [
       "HBox(children=(IntProgress(value=0, max=150), HTML(value='')))"
      ]
     },
     "metadata": {},
     "output_type": "display_data"
    },
    {
     "name": "stderr",
     "output_type": "stream",
     "text": [
      "/Users/ysgc/anaconda3/envs/my35/lib/python3.5/site-packages/ipykernel_launcher.py:50: UserWarning: Implicit dimension choice for softmax has been deprecated. Change the call to include dim=X as an argument.\n"
     ]
    },
    {
     "data": {
      "application/vnd.jupyter.widget-view+json": {
       "model_id": "8ea26266625749b181f7b98a18a0f158",
       "version_major": 2,
       "version_minor": 0
      },
      "text/plain": [
       "HBox(children=(IntProgress(value=0, max=150), HTML(value='')))"
      ]
     },
     "metadata": {},
     "output_type": "display_data"
    },
    {
     "data": {
      "application/vnd.jupyter.widget-view+json": {
       "model_id": "075c0c9a942c4bcba147a7d27e9fab76",
       "version_major": 2,
       "version_minor": 0
      },
      "text/plain": [
       "HBox(children=(IntProgress(value=0, max=150), HTML(value='')))"
      ]
     },
     "metadata": {},
     "output_type": "display_data"
    },
    {
     "data": {
      "application/vnd.jupyter.widget-view+json": {
       "model_id": "8713f215023340d8b163ec4d2da5d403",
       "version_major": 2,
       "version_minor": 0
      },
      "text/plain": [
       "HBox(children=(IntProgress(value=0, max=150), HTML(value='')))"
      ]
     },
     "metadata": {},
     "output_type": "display_data"
    },
    {
     "data": {
      "application/vnd.jupyter.widget-view+json": {
       "model_id": "34e6d53e256844ea90f7075987b43005",
       "version_major": 2,
       "version_minor": 0
      },
      "text/plain": [
       "HBox(children=(IntProgress(value=0, max=150), HTML(value='')))"
      ]
     },
     "metadata": {},
     "output_type": "display_data"
    },
    {
     "data": {
      "application/vnd.jupyter.widget-view+json": {
       "model_id": "3c861aafc08b48a69202154e50b1c42c",
       "version_major": 2,
       "version_minor": 0
      },
      "text/plain": [
       "HBox(children=(IntProgress(value=0, max=150), HTML(value='')))"
      ]
     },
     "metadata": {},
     "output_type": "display_data"
    },
    {
     "data": {
      "application/vnd.jupyter.widget-view+json": {
       "model_id": "f43362225f4648f098499a5d58e91b4f",
       "version_major": 2,
       "version_minor": 0
      },
      "text/plain": [
       "HBox(children=(IntProgress(value=0, max=150), HTML(value='')))"
      ]
     },
     "metadata": {},
     "output_type": "display_data"
    },
    {
     "data": {
      "application/vnd.jupyter.widget-view+json": {
       "model_id": "26a6fcab58834d028e8216b0350ef38f",
       "version_major": 2,
       "version_minor": 0
      },
      "text/plain": [
       "HBox(children=(IntProgress(value=0, max=150), HTML(value='')))"
      ]
     },
     "metadata": {},
     "output_type": "display_data"
    },
    {
     "data": {
      "application/vnd.jupyter.widget-view+json": {
       "model_id": "0a60527ab3d1461792194d6be8231bb5",
       "version_major": 2,
       "version_minor": 0
      },
      "text/plain": [
       "HBox(children=(IntProgress(value=0, max=150), HTML(value='')))"
      ]
     },
     "metadata": {},
     "output_type": "display_data"
    },
    {
     "data": {
      "application/vnd.jupyter.widget-view+json": {
       "model_id": "539278c998f84b8abaf808983001ddfc",
       "version_major": 2,
       "version_minor": 0
      },
      "text/plain": [
       "HBox(children=(IntProgress(value=0, max=150), HTML(value='')))"
      ]
     },
     "metadata": {},
     "output_type": "display_data"
    },
    {
     "name": "stdout",
     "output_type": "stream",
     "text": [
      "1.0\n"
     ]
    },
    {
     "data": {
      "application/vnd.jupyter.widget-view+json": {
       "model_id": "c8f1a53fe9354ddba39ef349f614bb85",
       "version_major": 2,
       "version_minor": 0
      },
      "text/plain": [
       "HBox(children=(IntProgress(value=0, max=10), HTML(value='')))"
      ]
     },
     "metadata": {},
     "output_type": "display_data"
    },
    {
     "data": {
      "application/vnd.jupyter.widget-view+json": {
       "model_id": "a30a8a1351704096bf38f0b41124650c",
       "version_major": 2,
       "version_minor": 0
      },
      "text/plain": [
       "HBox(children=(IntProgress(value=0, max=150), HTML(value='')))"
      ]
     },
     "metadata": {},
     "output_type": "display_data"
    },
    {
     "data": {
      "application/vnd.jupyter.widget-view+json": {
       "model_id": "4ed5e77bad5e4d2d8b5c679a94037572",
       "version_major": 2,
       "version_minor": 0
      },
      "text/plain": [
       "HBox(children=(IntProgress(value=0, max=150), HTML(value='')))"
      ]
     },
     "metadata": {},
     "output_type": "display_data"
    },
    {
     "data": {
      "application/vnd.jupyter.widget-view+json": {
       "model_id": "2662aa69dff04144bb8d4941fe5f3699",
       "version_major": 2,
       "version_minor": 0
      },
      "text/plain": [
       "HBox(children=(IntProgress(value=0, max=150), HTML(value='')))"
      ]
     },
     "metadata": {},
     "output_type": "display_data"
    },
    {
     "data": {
      "application/vnd.jupyter.widget-view+json": {
       "model_id": "eebfa1bc740c4b41b3703a6784f62fa4",
       "version_major": 2,
       "version_minor": 0
      },
      "text/plain": [
       "HBox(children=(IntProgress(value=0, max=150), HTML(value='')))"
      ]
     },
     "metadata": {},
     "output_type": "display_data"
    },
    {
     "data": {
      "application/vnd.jupyter.widget-view+json": {
       "model_id": "e76207fbd64b49bc84f0a0574516bdcc",
       "version_major": 2,
       "version_minor": 0
      },
      "text/plain": [
       "HBox(children=(IntProgress(value=0, max=150), HTML(value='')))"
      ]
     },
     "metadata": {},
     "output_type": "display_data"
    },
    {
     "data": {
      "application/vnd.jupyter.widget-view+json": {
       "model_id": "89e8fba1689d4d7b9fc944149cf72397",
       "version_major": 2,
       "version_minor": 0
      },
      "text/plain": [
       "HBox(children=(IntProgress(value=0, max=150), HTML(value='')))"
      ]
     },
     "metadata": {},
     "output_type": "display_data"
    },
    {
     "data": {
      "application/vnd.jupyter.widget-view+json": {
       "model_id": "f628ffa869cd4896848937c31ed550b9",
       "version_major": 2,
       "version_minor": 0
      },
      "text/plain": [
       "HBox(children=(IntProgress(value=0, max=150), HTML(value='')))"
      ]
     },
     "metadata": {},
     "output_type": "display_data"
    },
    {
     "data": {
      "application/vnd.jupyter.widget-view+json": {
       "model_id": "f491356ebd8940fd83f269e5ba0ee002",
       "version_major": 2,
       "version_minor": 0
      },
      "text/plain": [
       "HBox(children=(IntProgress(value=0, max=150), HTML(value='')))"
      ]
     },
     "metadata": {},
     "output_type": "display_data"
    },
    {
     "data": {
      "application/vnd.jupyter.widget-view+json": {
       "model_id": "ad391db8211c4c4683427f4c799539a6",
       "version_major": 2,
       "version_minor": 0
      },
      "text/plain": [
       "HBox(children=(IntProgress(value=0, max=150), HTML(value='')))"
      ]
     },
     "metadata": {},
     "output_type": "display_data"
    },
    {
     "data": {
      "application/vnd.jupyter.widget-view+json": {
       "model_id": "d127b4ed32a44de6b5cb04ffe77ee378",
       "version_major": 2,
       "version_minor": 0
      },
      "text/plain": [
       "HBox(children=(IntProgress(value=0, max=150), HTML(value='')))"
      ]
     },
     "metadata": {},
     "output_type": "display_data"
    },
    {
     "name": "stdout",
     "output_type": "stream",
     "text": [
      "1.0\n"
     ]
    },
    {
     "data": {
      "text/plain": [
       "(1.0, 1.0)"
      ]
     },
     "execution_count": 46,
     "metadata": {},
     "output_type": "execute_result"
    }
   ],
   "source": [
    "success_rate_LSTM = evaluate_navigator(iteration=100,step_size=0.025,temperature=0.01,plot=False,lstm=True)"
   ]
  }
 ],
 "metadata": {
  "kernelspec": {
   "display_name": "Python 3",
   "language": "python",
   "name": "python3"
  },
  "language_info": {
   "codemirror_mode": {
    "name": "ipython",
    "version": 3
   },
   "file_extension": ".py",
   "mimetype": "text/x-python",
   "name": "python",
   "nbconvert_exporter": "python",
   "pygments_lexer": "ipython3",
   "version": "3.5.6"
  },
  "varInspector": {
   "cols": {
    "lenName": 16,
    "lenType": 16,
    "lenVar": 40
   },
   "kernels_config": {
    "python": {
     "delete_cmd_postfix": "",
     "delete_cmd_prefix": "del ",
     "library": "var_list.py",
     "varRefreshCmd": "print(var_dic_list())"
    },
    "r": {
     "delete_cmd_postfix": ") ",
     "delete_cmd_prefix": "rm(",
     "library": "var_list.r",
     "varRefreshCmd": "cat(var_dic_list()) "
    }
   },
   "oldHeight": 805.188,
   "position": {
    "height": "40px",
    "left": "1141.66px",
    "right": "20px",
    "top": "7.96875px",
    "width": "524.516px"
   },
   "types_to_exclude": [
    "module",
    "function",
    "builtin_function_or_method",
    "instance",
    "_Feature"
   ],
   "varInspector_section_display": "none",
   "window_display": true
  }
 },
 "nbformat": 4,
 "nbformat_minor": 2
}
